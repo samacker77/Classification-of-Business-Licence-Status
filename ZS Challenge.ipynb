{
 "cells": [
  {
   "cell_type": "code",
   "execution_count": 206,
   "metadata": {},
   "outputs": [],
   "source": [
    "import pandas as pd\n",
    "import numpy as np\n",
    "import matplotlib.pyplot as plt\n",
    "import seaborn as sns\n",
    "from sklearn.preprocessing import StandardScaler\n",
    "from sklearn.preprocessing import LabelEncoder\n",
    "from sklearn.metrics import accuracy_score\n",
    "from sklearn.model_selection import train_test_split\n",
    "from sklearn.metrics import confusion_matrix"
    "from sklearn.preprocessing import Imputer"
    ]
  },
  {
   "cell_type": "markdown",
   "metadata": {},
   "source": [
    "## Loading data"
   ]
  },
  {
   "cell_type": "code",
   "execution_count": 34,
   "metadata": {},
   "outputs": [
    {
     "name": "stderr",
     "output_type": "stream",
     "text": [
      "/opt/anaconda3/lib/python3.7/site-packages/IPython/core/interactiveshell.py:3058: DtypeWarning: Columns (9) have mixed types. Specify dtype option on import or set low_memory=False.\n",
      "  interactivity=interactivity, compiler=compiler, result=result)\n"
     ]
    }
   ],
   "source": [
    "train_file = pd.read_csv('train_file.csv')\n",
    "test_file = pd.read_csv('test_file.csv')"
   ]
  },
  {
   "cell_type": "code",
   "execution_count": 35,
   "metadata": {},
   "outputs": [
    {
     "data": {
      "text/html": [
       "<div>\n",
       "<style scoped>\n",
       "    .dataframe tbody tr th:only-of-type {\n",
       "        vertical-align: middle;\n",
       "    }\n",
       "\n",
       "    .dataframe tbody tr th {\n",
       "        vertical-align: top;\n",
       "    }\n",
       "\n",
       "    .dataframe thead th {\n",
       "        text-align: right;\n",
       "    }\n",
       "</style>\n",
       "<table border=\"1\" class=\"dataframe\">\n",
       "  <thead>\n",
       "    <tr style=\"text-align: right;\">\n",
       "      <th></th>\n",
       "      <th>ID</th>\n",
       "      <th>LICENSE ID</th>\n",
       "      <th>ACCOUNT NUMBER</th>\n",
       "      <th>SITE NUMBER</th>\n",
       "      <th>LEGAL NAME</th>\n",
       "      <th>DOING BUSINESS AS NAME</th>\n",
       "      <th>ADDRESS</th>\n",
       "      <th>CITY</th>\n",
       "      <th>STATE</th>\n",
       "      <th>ZIP CODE</th>\n",
       "      <th>...</th>\n",
       "      <th>LICENSE TERM START DATE</th>\n",
       "      <th>LICENSE TERM EXPIRATION DATE</th>\n",
       "      <th>LICENSE APPROVED FOR ISSUANCE</th>\n",
       "      <th>DATE ISSUED</th>\n",
       "      <th>LICENSE STATUS CHANGE DATE</th>\n",
       "      <th>SSA</th>\n",
       "      <th>LATITUDE</th>\n",
       "      <th>LONGITUDE</th>\n",
       "      <th>LOCATION</th>\n",
       "      <th>LICENSE STATUS</th>\n",
       "    </tr>\n",
       "  </thead>\n",
       "  <tbody>\n",
       "    <tr>\n",
       "      <td>0</td>\n",
       "      <td>35342-20020816</td>\n",
       "      <td>1256593</td>\n",
       "      <td>32811</td>\n",
       "      <td>1</td>\n",
       "      <td>CARMEN CAHUE</td>\n",
       "      <td>CLAUDIA'S BRIDAL SHOP</td>\n",
       "      <td>2625 S CENTRAL PARK AVE  1</td>\n",
       "      <td>CHICAGO</td>\n",
       "      <td>IL</td>\n",
       "      <td>60623.0</td>\n",
       "      <td>...</td>\n",
       "      <td>2002-08-16T00:00:00</td>\n",
       "      <td>2003-08-15T00:00:00</td>\n",
       "      <td>2002-08-21T00:00:00</td>\n",
       "      <td>2006-04-11T00:00:00</td>\n",
       "      <td>NaN</td>\n",
       "      <td>25.0</td>\n",
       "      <td>41.843613</td>\n",
       "      <td>-87.714618</td>\n",
       "      <td>{'latitude': '41.843612879431845', 'longitude'...</td>\n",
       "      <td>AAI</td>\n",
       "    </tr>\n",
       "    <tr>\n",
       "      <td>1</td>\n",
       "      <td>1358463-20051116</td>\n",
       "      <td>1639294</td>\n",
       "      <td>262311</td>\n",
       "      <td>29</td>\n",
       "      <td>ISLA TROPICAL, INC.</td>\n",
       "      <td>ISLA TROPICAL</td>\n",
       "      <td>2825 W MONTROSE AVE</td>\n",
       "      <td>CHICAGO</td>\n",
       "      <td>IL</td>\n",
       "      <td>60618</td>\n",
       "      <td>...</td>\n",
       "      <td>2005-11-16T00:00:00</td>\n",
       "      <td>2006-11-15T00:00:00</td>\n",
       "      <td>2006-04-05T00:00:00</td>\n",
       "      <td>2006-06-12T00:00:00</td>\n",
       "      <td>2006-06-15T00:00:00</td>\n",
       "      <td>60.0</td>\n",
       "      <td>41.961132</td>\n",
       "      <td>-87.699626</td>\n",
       "      <td>{'latitude': '41.96113244107215', 'longitude':...</td>\n",
       "      <td>AAC</td>\n",
       "    </tr>\n",
       "    <tr>\n",
       "      <td>2</td>\n",
       "      <td>1980233-20090722</td>\n",
       "      <td>1980233</td>\n",
       "      <td>345008</td>\n",
       "      <td>1</td>\n",
       "      <td>DJS REMODELING</td>\n",
       "      <td>DJS REMODELING, INC.</td>\n",
       "      <td>1605  CLAVEY RD 1</td>\n",
       "      <td>HIGHLAND</td>\n",
       "      <td>IL</td>\n",
       "      <td>60035</td>\n",
       "      <td>...</td>\n",
       "      <td>2009-07-22T00:00:00</td>\n",
       "      <td>2011-07-15T00:00:00</td>\n",
       "      <td>2009-07-22T00:00:00</td>\n",
       "      <td>2009-07-22T00:00:00</td>\n",
       "      <td>NaN</td>\n",
       "      <td>NaN</td>\n",
       "      <td>NaN</td>\n",
       "      <td>NaN</td>\n",
       "      <td>NaN</td>\n",
       "      <td>AAI</td>\n",
       "    </tr>\n",
       "    <tr>\n",
       "      <td>3</td>\n",
       "      <td>1476582-20040211</td>\n",
       "      <td>1476582</td>\n",
       "      <td>273121</td>\n",
       "      <td>1</td>\n",
       "      <td>ALL-BRY CONSTRUCTION CO.</td>\n",
       "      <td>ALL-BRY CONSTRUCTION CO.</td>\n",
       "      <td>8  NORTH TRAIL</td>\n",
       "      <td>LEMONT</td>\n",
       "      <td>IL</td>\n",
       "      <td>60439</td>\n",
       "      <td>...</td>\n",
       "      <td>2004-02-11T00:00:00</td>\n",
       "      <td>2005-02-15T00:00:00</td>\n",
       "      <td>2004-02-10T00:00:00</td>\n",
       "      <td>2004-02-11T00:00:00</td>\n",
       "      <td>NaN</td>\n",
       "      <td>NaN</td>\n",
       "      <td>NaN</td>\n",
       "      <td>NaN</td>\n",
       "      <td>NaN</td>\n",
       "      <td>AAI</td>\n",
       "    </tr>\n",
       "    <tr>\n",
       "      <td>4</td>\n",
       "      <td>1141408-20080516</td>\n",
       "      <td>1896750</td>\n",
       "      <td>213785</td>\n",
       "      <td>1</td>\n",
       "      <td>MCDONOUGH MECHANICAL SERVICE</td>\n",
       "      <td>MCDONOUGH MECHANICAL SERVICE</td>\n",
       "      <td>4081  JOSEPH DR</td>\n",
       "      <td>WAUKEGAN</td>\n",
       "      <td>IL</td>\n",
       "      <td>60087</td>\n",
       "      <td>...</td>\n",
       "      <td>2008-05-16T00:00:00</td>\n",
       "      <td>2010-05-15T00:00:00</td>\n",
       "      <td>2008-06-04T00:00:00</td>\n",
       "      <td>2008-06-05T00:00:00</td>\n",
       "      <td>NaN</td>\n",
       "      <td>NaN</td>\n",
       "      <td>NaN</td>\n",
       "      <td>NaN</td>\n",
       "      <td>NaN</td>\n",
       "      <td>AAI</td>\n",
       "    </tr>\n",
       "  </tbody>\n",
       "</table>\n",
       "<p>5 rows × 32 columns</p>\n",
       "</div>"
      ],
      "text/plain": [
       "                 ID  LICENSE ID  ACCOUNT NUMBER  SITE NUMBER  \\\n",
       "0    35342-20020816     1256593           32811            1   \n",
       "1  1358463-20051116     1639294          262311           29   \n",
       "2  1980233-20090722     1980233          345008            1   \n",
       "3  1476582-20040211     1476582          273121            1   \n",
       "4  1141408-20080516     1896750          213785            1   \n",
       "\n",
       "                     LEGAL NAME        DOING BUSINESS AS NAME  \\\n",
       "0                  CARMEN CAHUE         CLAUDIA'S BRIDAL SHOP   \n",
       "1           ISLA TROPICAL, INC.                 ISLA TROPICAL   \n",
       "2                DJS REMODELING          DJS REMODELING, INC.   \n",
       "3      ALL-BRY CONSTRUCTION CO.      ALL-BRY CONSTRUCTION CO.   \n",
       "4  MCDONOUGH MECHANICAL SERVICE  MCDONOUGH MECHANICAL SERVICE   \n",
       "\n",
       "                      ADDRESS      CITY STATE ZIP CODE  ...  \\\n",
       "0  2625 S CENTRAL PARK AVE  1   CHICAGO    IL  60623.0  ...   \n",
       "1         2825 W MONTROSE AVE   CHICAGO    IL    60618  ...   \n",
       "2           1605  CLAVEY RD 1  HIGHLAND    IL    60035  ...   \n",
       "3              8  NORTH TRAIL    LEMONT    IL    60439  ...   \n",
       "4             4081  JOSEPH DR  WAUKEGAN    IL    60087  ...   \n",
       "\n",
       "   LICENSE TERM START DATE  LICENSE TERM EXPIRATION DATE  \\\n",
       "0      2002-08-16T00:00:00           2003-08-15T00:00:00   \n",
       "1      2005-11-16T00:00:00           2006-11-15T00:00:00   \n",
       "2      2009-07-22T00:00:00           2011-07-15T00:00:00   \n",
       "3      2004-02-11T00:00:00           2005-02-15T00:00:00   \n",
       "4      2008-05-16T00:00:00           2010-05-15T00:00:00   \n",
       "\n",
       "  LICENSE APPROVED FOR ISSUANCE          DATE ISSUED  \\\n",
       "0           2002-08-21T00:00:00  2006-04-11T00:00:00   \n",
       "1           2006-04-05T00:00:00  2006-06-12T00:00:00   \n",
       "2           2009-07-22T00:00:00  2009-07-22T00:00:00   \n",
       "3           2004-02-10T00:00:00  2004-02-11T00:00:00   \n",
       "4           2008-06-04T00:00:00  2008-06-05T00:00:00   \n",
       "\n",
       "   LICENSE STATUS CHANGE DATE   SSA   LATITUDE  LONGITUDE  \\\n",
       "0                         NaN  25.0  41.843613 -87.714618   \n",
       "1         2006-06-15T00:00:00  60.0  41.961132 -87.699626   \n",
       "2                         NaN   NaN        NaN        NaN   \n",
       "3                         NaN   NaN        NaN        NaN   \n",
       "4                         NaN   NaN        NaN        NaN   \n",
       "\n",
       "                                            LOCATION LICENSE STATUS  \n",
       "0  {'latitude': '41.843612879431845', 'longitude'...            AAI  \n",
       "1  {'latitude': '41.96113244107215', 'longitude':...            AAC  \n",
       "2                                                NaN            AAI  \n",
       "3                                                NaN            AAI  \n",
       "4                                                NaN            AAI  \n",
       "\n",
       "[5 rows x 32 columns]"
      ]
     },
     "execution_count": 35,
     "metadata": {},
     "output_type": "execute_result"
    }
   ],
   "source": [
    "train_file.head()"
   ]
  },
  {
   "cell_type": "code",
   "execution_count": 39,
   "metadata": {},
   "outputs": [
    {
     "data": {
      "text/html": [
       "<div>\n",
       "<style scoped>\n",
       "    .dataframe tbody tr th:only-of-type {\n",
       "        vertical-align: middle;\n",
       "    }\n",
       "\n",
       "    .dataframe tbody tr th {\n",
       "        vertical-align: top;\n",
       "    }\n",
       "\n",
       "    .dataframe thead th {\n",
       "        text-align: right;\n",
       "    }\n",
       "</style>\n",
       "<table border=\"1\" class=\"dataframe\">\n",
       "  <thead>\n",
       "    <tr style=\"text-align: right;\">\n",
       "      <th></th>\n",
       "      <th>ID</th>\n",
       "      <th>LICENSE ID</th>\n",
       "      <th>ACCOUNT NUMBER</th>\n",
       "      <th>SITE NUMBER</th>\n",
       "      <th>LEGAL NAME</th>\n",
       "      <th>DOING BUSINESS AS NAME</th>\n",
       "      <th>ADDRESS</th>\n",
       "      <th>CITY</th>\n",
       "      <th>STATE</th>\n",
       "      <th>ZIP CODE</th>\n",
       "      <th>...</th>\n",
       "      <th>CONDITIONAL APPROVAL</th>\n",
       "      <th>LICENSE TERM START DATE</th>\n",
       "      <th>LICENSE TERM EXPIRATION DATE</th>\n",
       "      <th>LICENSE APPROVED FOR ISSUANCE</th>\n",
       "      <th>DATE ISSUED</th>\n",
       "      <th>LICENSE STATUS CHANGE DATE</th>\n",
       "      <th>SSA</th>\n",
       "      <th>LATITUDE</th>\n",
       "      <th>LONGITUDE</th>\n",
       "      <th>LOCATION</th>\n",
       "    </tr>\n",
       "  </thead>\n",
       "  <tbody>\n",
       "    <tr>\n",
       "      <td>0</td>\n",
       "      <td>1516615-20120216</td>\n",
       "      <td>2132209</td>\n",
       "      <td>280120</td>\n",
       "      <td>1</td>\n",
       "      <td>RS HOMES I LLC</td>\n",
       "      <td>RS HOMES I LLC</td>\n",
       "      <td>350 W HUBBARD ST 3 300</td>\n",
       "      <td>CHICAGO</td>\n",
       "      <td>IL</td>\n",
       "      <td>60610.0</td>\n",
       "      <td>...</td>\n",
       "      <td>N</td>\n",
       "      <td>2012-02-16T00:00:00</td>\n",
       "      <td>2014-02-15T00:00:00</td>\n",
       "      <td>2012-01-19T00:00:00</td>\n",
       "      <td>2012-01-20T00:00:00</td>\n",
       "      <td>2012-12-29T00:00:00</td>\n",
       "      <td>NaN</td>\n",
       "      <td>41.890047</td>\n",
       "      <td>-87.637467</td>\n",
       "      <td>{'latitude': '41.89004724888915', 'longitude':...</td>\n",
       "    </tr>\n",
       "    <tr>\n",
       "      <td>1</td>\n",
       "      <td>69813-20110616</td>\n",
       "      <td>2090759</td>\n",
       "      <td>65043</td>\n",
       "      <td>1</td>\n",
       "      <td>CSX INTERMODAL INC</td>\n",
       "      <td>CSX INTERMODAL</td>\n",
       "      <td>2101 W 59TH ST 1ST</td>\n",
       "      <td>CHICAGO</td>\n",
       "      <td>IL</td>\n",
       "      <td>60636.0</td>\n",
       "      <td>...</td>\n",
       "      <td>N</td>\n",
       "      <td>2011-06-16T00:00:00</td>\n",
       "      <td>2013-06-15T00:00:00</td>\n",
       "      <td>2012-11-02T00:00:00</td>\n",
       "      <td>2012-11-05T00:00:00</td>\n",
       "      <td>2012-12-29T00:00:00</td>\n",
       "      <td>NaN</td>\n",
       "      <td>41.786485</td>\n",
       "      <td>-87.676665</td>\n",
       "      <td>{'latitude': '41.786485235679486', 'longitude'...</td>\n",
       "    </tr>\n",
       "    <tr>\n",
       "      <td>2</td>\n",
       "      <td>1519227-20041116</td>\n",
       "      <td>1541990</td>\n",
       "      <td>281270</td>\n",
       "      <td>1</td>\n",
       "      <td>LOCOMIBILE  LOFTS LLC</td>\n",
       "      <td>LOCOMOBILE LOFTS LLC</td>\n",
       "      <td>1133 S WABASH AVE 1ST</td>\n",
       "      <td>CHICAGO</td>\n",
       "      <td>IL</td>\n",
       "      <td>60605.0</td>\n",
       "      <td>...</td>\n",
       "      <td>N</td>\n",
       "      <td>2004-11-16T00:00:00</td>\n",
       "      <td>2005-11-15T00:00:00</td>\n",
       "      <td>2004-12-06T00:00:00</td>\n",
       "      <td>2004-12-07T00:00:00</td>\n",
       "      <td>NaN</td>\n",
       "      <td>NaN</td>\n",
       "      <td>41.868269</td>\n",
       "      <td>-87.625695</td>\n",
       "      <td>{'latitude': '41.86826924843568', 'longitude':...</td>\n",
       "    </tr>\n",
       "    <tr>\n",
       "      <td>3</td>\n",
       "      <td>1922025-20100816</td>\n",
       "      <td>2041053</td>\n",
       "      <td>335243</td>\n",
       "      <td>1</td>\n",
       "      <td>ANNA F. JAMISON</td>\n",
       "      <td>ANNA F. JAMISON</td>\n",
       "      <td>13156 S FORRESTVILLE AVE</td>\n",
       "      <td>CHICAGO</td>\n",
       "      <td>IL</td>\n",
       "      <td>60827.0</td>\n",
       "      <td>...</td>\n",
       "      <td>N</td>\n",
       "      <td>2010-08-16T00:00:00</td>\n",
       "      <td>2012-08-15T00:00:00</td>\n",
       "      <td>NaN</td>\n",
       "      <td>2010-11-04T00:00:00</td>\n",
       "      <td>2012-12-31T00:00:00</td>\n",
       "      <td>NaN</td>\n",
       "      <td>41.655762</td>\n",
       "      <td>-87.608686</td>\n",
       "      <td>{'latitude': '41.65576175146191', 'longitude':...</td>\n",
       "    </tr>\n",
       "    <tr>\n",
       "      <td>4</td>\n",
       "      <td>1675683-20070816</td>\n",
       "      <td>1837158</td>\n",
       "      <td>283018</td>\n",
       "      <td>3</td>\n",
       "      <td>MARINCA A. COVARRUBIAS</td>\n",
       "      <td>DETAILS</td>\n",
       "      <td>4208 S ARCHER AVE</td>\n",
       "      <td>CHICAGO</td>\n",
       "      <td>IL</td>\n",
       "      <td>60632.0</td>\n",
       "      <td>...</td>\n",
       "      <td>N</td>\n",
       "      <td>2007-08-16T00:00:00</td>\n",
       "      <td>2009-06-15T00:00:00</td>\n",
       "      <td>2007-08-15T00:00:00</td>\n",
       "      <td>2007-08-16T00:00:00</td>\n",
       "      <td>2008-03-26T00:00:00</td>\n",
       "      <td>39.0</td>\n",
       "      <td>41.816969</td>\n",
       "      <td>-87.699785</td>\n",
       "      <td>{'latitude': '41.81696910012824', 'longitude':...</td>\n",
       "    </tr>\n",
       "  </tbody>\n",
       "</table>\n",
       "<p>5 rows × 31 columns</p>\n",
       "</div>"
      ],
      "text/plain": [
       "                 ID  LICENSE ID  ACCOUNT NUMBER  SITE NUMBER  \\\n",
       "0  1516615-20120216     2132209          280120            1   \n",
       "1    69813-20110616     2090759           65043            1   \n",
       "2  1519227-20041116     1541990          281270            1   \n",
       "3  1922025-20100816     2041053          335243            1   \n",
       "4  1675683-20070816     1837158          283018            3   \n",
       "\n",
       "               LEGAL NAME DOING BUSINESS AS NAME                   ADDRESS  \\\n",
       "0          RS HOMES I LLC         RS HOMES I LLC    350 W HUBBARD ST 3 300   \n",
       "1      CSX INTERMODAL INC         CSX INTERMODAL        2101 W 59TH ST 1ST   \n",
       "2   LOCOMIBILE  LOFTS LLC   LOCOMOBILE LOFTS LLC     1133 S WABASH AVE 1ST   \n",
       "3         ANNA F. JAMISON        ANNA F. JAMISON  13156 S FORRESTVILLE AVE   \n",
       "4  MARINCA A. COVARRUBIAS                DETAILS         4208 S ARCHER AVE   \n",
       "\n",
       "      CITY STATE  ZIP CODE  ...  CONDITIONAL APPROVAL  \\\n",
       "0  CHICAGO    IL   60610.0  ...                     N   \n",
       "1  CHICAGO    IL   60636.0  ...                     N   \n",
       "2  CHICAGO    IL   60605.0  ...                     N   \n",
       "3  CHICAGO    IL   60827.0  ...                     N   \n",
       "4  CHICAGO    IL   60632.0  ...                     N   \n",
       "\n",
       "   LICENSE TERM START DATE LICENSE TERM EXPIRATION DATE  \\\n",
       "0      2012-02-16T00:00:00          2014-02-15T00:00:00   \n",
       "1      2011-06-16T00:00:00          2013-06-15T00:00:00   \n",
       "2      2004-11-16T00:00:00          2005-11-15T00:00:00   \n",
       "3      2010-08-16T00:00:00          2012-08-15T00:00:00   \n",
       "4      2007-08-16T00:00:00          2009-06-15T00:00:00   \n",
       "\n",
       "   LICENSE APPROVED FOR ISSUANCE          DATE ISSUED  \\\n",
       "0            2012-01-19T00:00:00  2012-01-20T00:00:00   \n",
       "1            2012-11-02T00:00:00  2012-11-05T00:00:00   \n",
       "2            2004-12-06T00:00:00  2004-12-07T00:00:00   \n",
       "3                            NaN  2010-11-04T00:00:00   \n",
       "4            2007-08-15T00:00:00  2007-08-16T00:00:00   \n",
       "\n",
       "  LICENSE STATUS CHANGE DATE   SSA   LATITUDE  LONGITUDE  \\\n",
       "0        2012-12-29T00:00:00   NaN  41.890047 -87.637467   \n",
       "1        2012-12-29T00:00:00   NaN  41.786485 -87.676665   \n",
       "2                        NaN   NaN  41.868269 -87.625695   \n",
       "3        2012-12-31T00:00:00   NaN  41.655762 -87.608686   \n",
       "4        2008-03-26T00:00:00  39.0  41.816969 -87.699785   \n",
       "\n",
       "                                            LOCATION  \n",
       "0  {'latitude': '41.89004724888915', 'longitude':...  \n",
       "1  {'latitude': '41.786485235679486', 'longitude'...  \n",
       "2  {'latitude': '41.86826924843568', 'longitude':...  \n",
       "3  {'latitude': '41.65576175146191', 'longitude':...  \n",
       "4  {'latitude': '41.81696910012824', 'longitude':...  \n",
       "\n",
       "[5 rows x 31 columns]"
      ]
     },
     "execution_count": 39,
     "metadata": {},
     "output_type": "execute_result"
    }
   ],
   "source": [
    "test_file.head()"
   ]
  },
  {
   "cell_type": "code",
   "execution_count": 48,
   "metadata": {},
   "outputs": [
    {
     "name": "stdout",
     "output_type": "stream",
     "text": [
      "Train File Shape- (85895, 32)\n",
      "Test File Shape- (57239, 31)\n"
     ]
    }
   ],
   "source": [
    "print(\"Train File Shape-\",train_file.shape)\n",
    "print(\"Test File Shape-\",test_file.shape)"
   ]
  },
  {
   "cell_type": "code",
   "execution_count": 50,
   "metadata": {},
   "outputs": [
    {
     "name": "stdout",
     "output_type": "stream",
     "text": [
      "Columns in Train File- Index(['ID', 'LICENSE ID', 'ACCOUNT NUMBER', 'SITE NUMBER', 'LEGAL NAME',\n",
      "       'DOING BUSINESS AS NAME', 'ADDRESS', 'CITY', 'STATE', 'ZIP CODE',\n",
      "       'WARD', 'PRECINCT', 'WARD PRECINCT', 'POLICE DISTRICT', 'LICENSE CODE',\n",
      "       'LICENSE DESCRIPTION', 'LICENSE NUMBER', 'APPLICATION TYPE',\n",
      "       'APPLICATION CREATED DATE', 'APPLICATION REQUIREMENTS COMPLETE',\n",
      "       'PAYMENT DATE', 'CONDITIONAL APPROVAL', 'LICENSE TERM START DATE',\n",
      "       'LICENSE TERM EXPIRATION DATE', 'LICENSE APPROVED FOR ISSUANCE',\n",
      "       'DATE ISSUED', 'LICENSE STATUS CHANGE DATE', 'SSA', 'LATITUDE',\n",
      "       'LONGITUDE', 'LOCATION', 'LICENSE STATUS'],\n",
      "      dtype='object')\n",
      "==========================================\n",
      "Columns in Test File- Index(['ID', 'LICENSE ID', 'ACCOUNT NUMBER', 'SITE NUMBER', 'LEGAL NAME',\n",
      "       'DOING BUSINESS AS NAME', 'ADDRESS', 'CITY', 'STATE', 'ZIP CODE',\n",
      "       'WARD', 'PRECINCT', 'WARD PRECINCT', 'POLICE DISTRICT', 'LICENSE CODE',\n",
      "       'LICENSE DESCRIPTION', 'LICENSE NUMBER', 'APPLICATION TYPE',\n",
      "       'APPLICATION CREATED DATE', 'APPLICATION REQUIREMENTS COMPLETE',\n",
      "       'PAYMENT DATE', 'CONDITIONAL APPROVAL', 'LICENSE TERM START DATE',\n",
      "       'LICENSE TERM EXPIRATION DATE', 'LICENSE APPROVED FOR ISSUANCE',\n",
      "       'DATE ISSUED', 'LICENSE STATUS CHANGE DATE', 'SSA', 'LATITUDE',\n",
      "       'LONGITUDE', 'LOCATION'],\n",
      "      dtype='object')\n"
     ]
    }
   ],
   "source": [
    "print(\"Columns in Train File-\",train_file.columns)\n",
    "print(\"==========================================\")\n",
    "print(\"Columns in Test File-\",test_file.columns)"
   ]
  },
  {
   "cell_type": "code",
   "execution_count": 254,
   "metadata": {},
   "outputs": [
    {
     "name": "stdout",
     "output_type": "stream",
     "text": [
      "ID                                       0\n",
      "LICENSE ID                               0\n",
      "ACCOUNT NUMBER                           0\n",
      "SITE NUMBER                              0\n",
      "LEGAL NAME                               0\n",
      "DOING BUSINESS AS NAME                   1\n",
      "ADDRESS                                  0\n",
      "CITY                                     0\n",
      "STATE                                    0\n",
      "ZIP CODE                                31\n",
      "WARD                                 49701\n",
      "PRECINCT                             56701\n",
      "WARD PRECINCT                        49700\n",
      "POLICE DISTRICT                      54012\n",
      "LICENSE CODE                             0\n",
      "LICENSE DESCRIPTION                      0\n",
      "LICENSE NUMBER                           1\n",
      "APPLICATION TYPE                         0\n",
      "APPLICATION CREATED DATE             64660\n",
      "APPLICATION REQUIREMENTS COMPLETE      214\n",
      "PAYMENT DATE                          1289\n",
      "CONDITIONAL APPROVAL                     0\n",
      "LICENSE TERM START DATE                228\n",
      "LICENSE TERM EXPIRATION DATE            18\n",
      "LICENSE APPROVED FOR ISSUANCE         6789\n",
      "DATE ISSUED                              0\n",
      "LICENSE STATUS CHANGE DATE           55400\n",
      "SSA                                  76446\n",
      "LATITUDE                             47246\n",
      "LONGITUDE                            47246\n",
      "LOCATION                             47246\n",
      "LICENSE STATUS                           0\n",
      "dtype: int64\n",
      "-----------------DTYPES-----------------------\n",
      "ID                                    object\n",
      "LICENSE ID                             int64\n",
      "ACCOUNT NUMBER                         int64\n",
      "SITE NUMBER                            int64\n",
      "LEGAL NAME                            object\n",
      "DOING BUSINESS AS NAME                object\n",
      "ADDRESS                               object\n",
      "CITY                                  object\n",
      "STATE                                 object\n",
      "ZIP CODE                              object\n",
      "WARD                                 float64\n",
      "PRECINCT                             float64\n",
      "WARD PRECINCT                         object\n",
      "POLICE DISTRICT                      float64\n",
      "LICENSE CODE                           int64\n",
      "LICENSE DESCRIPTION                   object\n",
      "LICENSE NUMBER                       float64\n",
      "APPLICATION TYPE                      object\n",
      "APPLICATION CREATED DATE              object\n",
      "APPLICATION REQUIREMENTS COMPLETE     object\n",
      "PAYMENT DATE                          object\n",
      "CONDITIONAL APPROVAL                  object\n",
      "LICENSE TERM START DATE               object\n",
      "LICENSE TERM EXPIRATION DATE          object\n",
      "LICENSE APPROVED FOR ISSUANCE         object\n",
      "DATE ISSUED                           object\n",
      "LICENSE STATUS CHANGE DATE            object\n",
      "SSA                                  float64\n",
      "LATITUDE                             float64\n",
      "LONGITUDE                            float64\n",
      "LOCATION                              object\n",
      "LICENSE STATUS                        object\n",
      "dtype: object\n",
      "------------------UNIQUES---------------------\n",
      "ID                                   85895\n",
      "LICENSE ID                           85895\n",
      "ACCOUNT NUMBER                       38897\n",
      "SITE NUMBER                            177\n",
      "LEGAL NAME                           38744\n",
      "DOING BUSINESS AS NAME               41686\n",
      "ADDRESS                              42146\n",
      "CITY                                  1223\n",
      "STATE                                   54\n",
      "ZIP CODE                              2456\n",
      "WARD                                    50\n",
      "PRECINCT                                76\n",
      "WARD PRECINCT                         2383\n",
      "POLICE DISTRICT                         28\n",
      "LICENSE CODE                           106\n",
      "LICENSE DESCRIPTION                    106\n",
      "LICENSE NUMBER                       49768\n",
      "APPLICATION TYPE                         5\n",
      "APPLICATION CREATED DATE              2899\n",
      "APPLICATION REQUIREMENTS COMPLETE     3078\n",
      "PAYMENT DATE                          4356\n",
      "CONDITIONAL APPROVAL                     2\n",
      "LICENSE TERM START DATE               2825\n",
      "LICENSE TERM EXPIRATION DATE           297\n",
      "LICENSE APPROVED FOR ISSUANCE         4223\n",
      "DATE ISSUED                           3498\n",
      "LICENSE STATUS CHANGE DATE            3152\n",
      "SSA                                     53\n",
      "LATITUDE                             21386\n",
      "LONGITUDE                            21388\n",
      "LOCATION                             21388\n",
      "LICENSE STATUS                           5\n",
      "dtype: int64\n"
     ]
    }
   ],
   "source": [
    "print(train_file.isna().sum())\n",
    "print(\"-----------------DTYPES-----------------------\")\n",
    "print(train_file.dtypes)\n",
    "print(\"------------------UNIQUES---------------------\")\n",
    "print(train_file.nunique())"
   ]
  },
  {
   "cell_type": "code",
   "execution_count": 52,
   "metadata": {},
   "outputs": [
    {
     "data": {
      "text/plain": [
       "ID                                       0\n",
       "LICENSE ID                               0\n",
       "ACCOUNT NUMBER                           0\n",
       "SITE NUMBER                              0\n",
       "LEGAL NAME                               0\n",
       "DOING BUSINESS AS NAME                   2\n",
       "ADDRESS                                  0\n",
       "CITY                                     0\n",
       "STATE                                    0\n",
       "ZIP CODE                                12\n",
       "WARD                                   626\n",
       "PRECINCT                              1578\n",
       "WARD PRECINCT                          616\n",
       "POLICE DISTRICT                       1475\n",
       "LICENSE CODE                             0\n",
       "LICENSE DESCRIPTION                      0\n",
       "LICENSE NUMBER                           0\n",
       "APPLICATION TYPE                         0\n",
       "APPLICATION CREATED DATE             44587\n",
       "APPLICATION REQUIREMENTS COMPLETE      428\n",
       "PAYMENT DATE                          1051\n",
       "CONDITIONAL APPROVAL                     0\n",
       "LICENSE TERM START DATE                118\n",
       "LICENSE TERM EXPIRATION DATE             6\n",
       "LICENSE APPROVED FOR ISSUANCE         2379\n",
       "DATE ISSUED                              0\n",
       "LICENSE STATUS CHANGE DATE           23246\n",
       "SSA                                  41331\n",
       "LATITUDE                               910\n",
       "LONGITUDE                              910\n",
       "LOCATION                               910\n",
       "dtype: int64"
      ]
     },
     "execution_count": 52,
     "metadata": {},
     "output_type": "execute_result"
    }
   ],
   "source": [
    "test_file.isna().sum()"
   ]
  },
  {
   "cell_type": "code",
   "execution_count": 54,
   "metadata": {},
   "outputs": [
    {
     "data": {
      "text/plain": [
       "AAI    55400\n",
       "AAC    30200\n",
       "REV      290\n",
       "REA        3\n",
       "INQ        2\n",
       "Name: LICENSE STATUS, dtype: int64"
      ]
     },
     "execution_count": 54,
     "metadata": {},
     "output_type": "execute_result"
    }
   ],
   "source": [
    "train_file['LICENSE STATUS'].value_counts()"
   ]
  },
  {
   "cell_type": "code",
   "execution_count": 56,
   "metadata": {},
   "outputs": [
    {
     "data": {
      "text/plain": [
       "<matplotlib.axes._subplots.AxesSubplot at 0x1a2f23e290>"
      ]
     },
     "execution_count": 56,
     "metadata": {},
     "output_type": "execute_result"
    },
    {
     "data": {
      "image/png": "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\n",
      "text/plain": [
       "<Figure size 432x288 with 1 Axes>"
      ]
     },
     "metadata": {
      "needs_background": "light"
     },
     "output_type": "display_data"
    }
   ],
   "source": [
    "sns.countplot(train_file['LICENSE STATUS'])"
   ]
  },
  {
   "cell_type": "code",
   "execution_count": 60,
   "metadata": {},
   "outputs": [
    {
     "data": {
      "text/plain": [
       "Index(['ID', 'LICENSE ID', 'ACCOUNT NUMBER', 'SITE NUMBER', 'LEGAL NAME',\n",
       "       'DOING BUSINESS AS NAME', 'ADDRESS', 'CITY', 'STATE', 'ZIP CODE',\n",
       "       'WARD', 'PRECINCT', 'WARD PRECINCT', 'POLICE DISTRICT', 'LICENSE CODE',\n",
       "       'LICENSE DESCRIPTION', 'LICENSE NUMBER', 'APPLICATION TYPE',\n",
       "       'APPLICATION CREATED DATE', 'APPLICATION REQUIREMENTS COMPLETE',\n",
       "       'PAYMENT DATE', 'CONDITIONAL APPROVAL', 'LICENSE TERM START DATE',\n",
       "       'LICENSE TERM EXPIRATION DATE', 'LICENSE APPROVED FOR ISSUANCE',\n",
       "       'DATE ISSUED', 'LICENSE STATUS CHANGE DATE', 'SSA', 'LATITUDE',\n",
       "       'LONGITUDE', 'LOCATION', 'LICENSE STATUS'],\n",
       "      dtype='object')"
      ]
     },
     "execution_count": 60,
     "metadata": {},
     "output_type": "execute_result"
    }
   ],
   "source": [
    "train_file.columns"
   ]
  },
  {
   "cell_type": "code",
   "execution_count": 64,
   "metadata": {},
   "outputs": [],
   "source": [
    "training_data = train_file.drop(['ID','LICENSE ID','ACCOUNT NUMBER','SITE NUMBER','ADDRESS',\n",
    "                                 'SSA','APPLICATION CREATED DATE','LOCATION'],axis=1)"
   ]
  },
  {
   "cell_type": "code",
   "execution_count": 65,
   "metadata": {},
   "outputs": [],
   "source": [
    "testing_data = test_file.drop(['ID','LICENSE ID','ACCOUNT NUMBER','SITE NUMBER','ADDRESS',\n",
    "                                 'SSA','APPLICATION CREATED DATE','LOCATION'],axis=1)"
   ]
  },
  {
   "cell_type": "code",
   "execution_count": 70,
   "metadata": {},
   "outputs": [
    {
     "name": "stdout",
     "output_type": "stream",
     "text": [
      "Train File Shape- (85895, 24)\n",
      "Test File Shape- (57239, 23)\n"
     ]
    }
   ],
   "source": [
    "print(\"Train File Shape-\",training_data.shape)\n",
    "print(\"Test File Shape-\",testing_data.shape)"
   ]
  },
  {
   "cell_type": "code",
   "execution_count": 80,
   "metadata": {},
   "outputs": [
    {
     "name": "stdout",
     "output_type": "stream",
     "text": [
      "LEGAL NAME                               0\n",
      "DOING BUSINESS AS NAME                   1\n",
      "CITY                                     0\n",
      "STATE                                    0\n",
      "ZIP CODE                                31\n",
      "WARD                                 49701\n",
      "PRECINCT                             56701\n",
      "WARD PRECINCT                        49700\n",
      "POLICE DISTRICT                      54012\n",
      "LICENSE CODE                             0\n",
      "LICENSE DESCRIPTION                      0\n",
      "LICENSE NUMBER                           1\n",
      "APPLICATION TYPE                         0\n",
      "APPLICATION REQUIREMENTS COMPLETE      214\n",
      "PAYMENT DATE                          1289\n",
      "CONDITIONAL APPROVAL                     0\n",
      "LICENSE TERM START DATE                228\n",
      "LICENSE TERM EXPIRATION DATE            18\n",
      "LICENSE APPROVED FOR ISSUANCE         6789\n",
      "DATE ISSUED                              0\n",
      "LICENSE STATUS CHANGE DATE           55400\n",
      "LATITUDE                                 0\n",
      "LONGITUDE                                0\n",
      "LICENSE STATUS                           0\n",
      "dtype: int64\n",
      "LEGAL NAME                            object\n",
      "DOING BUSINESS AS NAME                object\n",
      "CITY                                  object\n",
      "STATE                                 object\n",
      "ZIP CODE                              object\n",
      "WARD                                 float64\n",
      "PRECINCT                             float64\n",
      "WARD PRECINCT                         object\n",
      "POLICE DISTRICT                      float64\n",
      "LICENSE CODE                           int64\n",
      "LICENSE DESCRIPTION                   object\n",
      "LICENSE NUMBER                       float64\n",
      "APPLICATION TYPE                      object\n",
      "APPLICATION REQUIREMENTS COMPLETE     object\n",
      "PAYMENT DATE                          object\n",
      "CONDITIONAL APPROVAL                  object\n",
      "LICENSE TERM START DATE               object\n",
      "LICENSE TERM EXPIRATION DATE          object\n",
      "LICENSE APPROVED FOR ISSUANCE         object\n",
      "DATE ISSUED                           object\n",
      "LICENSE STATUS CHANGE DATE            object\n",
      "LATITUDE                             float64\n",
      "LONGITUDE                            float64\n",
      "LICENSE STATUS                        object\n",
      "dtype: object\n"
     ]
    }
   ],
   "source": [
    "print(training_data.isna().sum())\n",
    "print(training_data.dtypes)"
   ]
  },
  {
   "cell_type": "code",
   "execution_count": 67,
   "metadata": {},
   "outputs": [
    {
     "data": {
      "text/plain": [
       "LEGAL NAME                            object\n",
       "DOING BUSINESS AS NAME                object\n",
       "CITY                                  object\n",
       "STATE                                 object\n",
       "ZIP CODE                              object\n",
       "WARD                                 float64\n",
       "PRECINCT                             float64\n",
       "WARD PRECINCT                         object\n",
       "POLICE DISTRICT                      float64\n",
       "LICENSE CODE                           int64\n",
       "LICENSE DESCRIPTION                   object\n",
       "LICENSE NUMBER                       float64\n",
       "APPLICATION TYPE                      object\n",
       "APPLICATION REQUIREMENTS COMPLETE     object\n",
       "PAYMENT DATE                          object\n",
       "CONDITIONAL APPROVAL                  object\n",
       "LICENSE TERM START DATE               object\n",
       "LICENSE TERM EXPIRATION DATE          object\n",
       "LICENSE APPROVED FOR ISSUANCE         object\n",
       "DATE ISSUED                           object\n",
       "LICENSE STATUS CHANGE DATE            object\n",
       "LATITUDE                             float64\n",
       "LONGITUDE                            float64\n",
       "LICENSE STATUS                        object\n",
       "dtype: object"
      ]
     },
     "execution_count": 67,
     "metadata": {},
     "output_type": "execute_result"
    }
   ],
   "source": [
    "training_data.dtypes"
   ]
  },
  {
   "cell_type": "code",
   "execution_count": 81,
   "metadata": {},
   "outputs": [],
   "source": [
    "training_data['LATITUDE'] = training_data['LATITUDE'].fillna(training_data['LATITUDE'].mean())\n",
    "training_data['LONGITUDE'] = training_data['LONGITUDE'].fillna(training_data['LONGITUDE'].mean())\n",
    "testing_data['LATITUDE'] = testing_data['LATITUDE'].fillna(testing_data['LATITUDE'].mean())\n",
    "testing_data['LONGITUDE'] = testing_data['LONGITUDE'].fillna(testing_data['LONGITUDE'].mean())"
   ]
  },
  {
   "cell_type": "code",
   "execution_count": 82,
   "metadata": {},
   "outputs": [],
   "source": [
    "def impute_with_zero(col_list):\n",
    "    for i in col_list:\n",
    "        training_data[i]=training_data[i].fillna(0)\n",
    "        testing_data[i]=testing_data[i].fillna(0)"
   ]
  },
  {
   "cell_type": "code",
   "execution_count": 83,
   "metadata": {},
   "outputs": [],
   "source": [
    "col_list=['WARD','PRECINCT','POLICE DISTRICT','LICENSE NUMBER','WARD PRECINCT',]\n",
    "impute_with_zero(col_list)"
   ]
  },
  {
   "cell_type": "code",
   "execution_count": 85,
   "metadata": {},
   "outputs": [
    {
     "name": "stdout",
     "output_type": "stream",
     "text": [
      "LEGAL NAME                               0\n",
      "DOING BUSINESS AS NAME                   1\n",
      "CITY                                     0\n",
      "STATE                                    0\n",
      "ZIP CODE                                31\n",
      "WARD                                     0\n",
      "PRECINCT                                 0\n",
      "WARD PRECINCT                            0\n",
      "POLICE DISTRICT                          0\n",
      "LICENSE CODE                             0\n",
      "LICENSE DESCRIPTION                      0\n",
      "LICENSE NUMBER                           0\n",
      "APPLICATION TYPE                         0\n",
      "APPLICATION REQUIREMENTS COMPLETE      214\n",
      "PAYMENT DATE                          1289\n",
      "CONDITIONAL APPROVAL                     0\n",
      "LICENSE TERM START DATE                228\n",
      "LICENSE TERM EXPIRATION DATE            18\n",
      "LICENSE APPROVED FOR ISSUANCE         6789\n",
      "DATE ISSUED                              0\n",
      "LICENSE STATUS CHANGE DATE           55400\n",
      "LATITUDE                                 0\n",
      "LONGITUDE                                0\n",
      "LICENSE STATUS                           0\n",
      "dtype: int64\n",
      "LEGAL NAME                            object\n",
      "DOING BUSINESS AS NAME                object\n",
      "CITY                                  object\n",
      "STATE                                 object\n",
      "ZIP CODE                              object\n",
      "WARD                                 float64\n",
      "PRECINCT                             float64\n",
      "WARD PRECINCT                         object\n",
      "POLICE DISTRICT                      float64\n",
      "LICENSE CODE                           int64\n",
      "LICENSE DESCRIPTION                   object\n",
      "LICENSE NUMBER                       float64\n",
      "APPLICATION TYPE                      object\n",
      "APPLICATION REQUIREMENTS COMPLETE     object\n",
      "PAYMENT DATE                          object\n",
      "CONDITIONAL APPROVAL                  object\n",
      "LICENSE TERM START DATE               object\n",
      "LICENSE TERM EXPIRATION DATE          object\n",
      "LICENSE APPROVED FOR ISSUANCE         object\n",
      "DATE ISSUED                           object\n",
      "LICENSE STATUS CHANGE DATE            object\n",
      "LATITUDE                             float64\n",
      "LONGITUDE                            float64\n",
      "LICENSE STATUS                        object\n",
      "dtype: object\n"
     ]
    }
   ],
   "source": [
    "print(training_data.isna().sum())\n",
    "print(training_data.dtypes)"
   ]
  },
  {
   "cell_type": "code",
   "execution_count": 86,
   "metadata": {},
   "outputs": [],
   "source": [
    "def convert_to_datetime(col_list):\n",
    "    for i in col_list:\n",
    "        training_data[i]=pd.to_datetime(training_data[i])\n",
    "        testing_data[i]=pd.to_datetime(testing_data[i])"
   ]
  },
  {
   "cell_type": "code",
   "execution_count": 87,
   "metadata": {},
   "outputs": [
    {
     "data": {
      "text/plain": [
       "Index(['LEGAL NAME', 'DOING BUSINESS AS NAME', 'CITY', 'STATE', 'ZIP CODE',\n",
       "       'WARD', 'PRECINCT', 'WARD PRECINCT', 'POLICE DISTRICT', 'LICENSE CODE',\n",
       "       'LICENSE DESCRIPTION', 'LICENSE NUMBER', 'APPLICATION TYPE',\n",
       "       'APPLICATION REQUIREMENTS COMPLETE', 'PAYMENT DATE',\n",
       "       'CONDITIONAL APPROVAL', 'LICENSE TERM START DATE',\n",
       "       'LICENSE TERM EXPIRATION DATE', 'LICENSE APPROVED FOR ISSUANCE',\n",
       "       'DATE ISSUED', 'LICENSE STATUS CHANGE DATE', 'LATITUDE', 'LONGITUDE',\n",
       "       'LICENSE STATUS'],\n",
       "      dtype='object')"
      ]
     },
     "execution_count": 87,
     "metadata": {},
     "output_type": "execute_result"
    }
   ],
   "source": [
    "training_data.columns"
   ]
  },
  {
   "cell_type": "code",
   "execution_count": 92,
   "metadata": {},
   "outputs": [],
   "source": [
    "date_col_list=['APPLICATION REQUIREMENTS COMPLETE','PAYMENT DATE','LICENSE TERM START DATE',\n",
    "              'LICENSE TERM EXPIRATION DATE','LICENSE APPROVED FOR ISSUANCE','DATE ISSUED',\n",
    "               'LICENSE STATUS CHANGE DATE']"
   ]
  },
  {
   "cell_type": "code",
   "execution_count": 93,
   "metadata": {},
   "outputs": [],
   "source": [
    "convert_to_datetime(date_col_list)"
   ]
  },
  {
   "cell_type": "code",
   "execution_count": 95,
   "metadata": {},
   "outputs": [],
   "source": [
    "def fetch_year_month(colname1,colname2,date_col):\n",
    "    training_data[colname1]=training_data[date_col].apply(lambda value : value.year)\n",
    "    training_data[colname2]=training_data[date_col].apply(lambda value : value.month)\n",
    "    testing_data[colname1]=testing_data[date_col].apply(lambda value : value.year)\n",
    "    testing_data[colname2]=testing_data[date_col].apply(lambda value : value.month)"
   ]
  },
  {
   "cell_type": "code",
   "execution_count": 99,
   "metadata": {},
   "outputs": [],
   "source": [
    "def fetch_year(colname1,date_col):\n",
    "    training_data[colname1]=training_data[date_col].apply(lambda value : value.year)\n",
    "    testing_data[colname1]=testing_data[date_col].apply(lambda value : value.year)"
   ]
  },
  {
   "cell_type": "code",
   "execution_count": 97,
   "metadata": {},
   "outputs": [],
   "source": [
    "fetch_year_month('PAYMENT YEAR','PAYMENT MONTH','PAYMENT DATE')"
   ]
  },
  {
   "cell_type": "code",
   "execution_count": 101,
   "metadata": {},
   "outputs": [],
   "source": [
    "fetch_year('APPLICATION REQUIREMENTS COMPLETE YEAR','APPLICATION REQUIREMENTS COMPLETE')\n",
    "fetch_year('LICENSE TERM START YEAR','LICENSE TERM START DATE')\n",
    "fetch_year('LICENSE TERM EXPIRATION YEAR','LICENSE TERM EXPIRATION DATE')\n",
    "fetch_year('LICENSE APPROVAL YEAR','LICENSE APPROVED FOR ISSUANCE')\n",
    "fetch_year('DATE ISSUED YEAR','DATE ISSUED')\n",
    "fetch_year('LICENSE STATUS CHANGE YEAR','LICENSE STATUS CHANGE DATE')"
   ]
  },
  {
   "cell_type": "code",
   "execution_count": 102,
   "metadata": {},
   "outputs": [
    {
     "data": {
      "text/html": [
       "<div>\n",
       "<style scoped>\n",
       "    .dataframe tbody tr th:only-of-type {\n",
       "        vertical-align: middle;\n",
       "    }\n",
       "\n",
       "    .dataframe tbody tr th {\n",
       "        vertical-align: top;\n",
       "    }\n",
       "\n",
       "    .dataframe thead th {\n",
       "        text-align: right;\n",
       "    }\n",
       "</style>\n",
       "<table border=\"1\" class=\"dataframe\">\n",
       "  <thead>\n",
       "    <tr style=\"text-align: right;\">\n",
       "      <th></th>\n",
       "      <th>LEGAL NAME</th>\n",
       "      <th>DOING BUSINESS AS NAME</th>\n",
       "      <th>CITY</th>\n",
       "      <th>STATE</th>\n",
       "      <th>ZIP CODE</th>\n",
       "      <th>WARD</th>\n",
       "      <th>PRECINCT</th>\n",
       "      <th>WARD PRECINCT</th>\n",
       "      <th>POLICE DISTRICT</th>\n",
       "      <th>LICENSE CODE</th>\n",
       "      <th>...</th>\n",
       "      <th>LONGITUDE</th>\n",
       "      <th>LICENSE STATUS</th>\n",
       "      <th>PAYMENT YEAR</th>\n",
       "      <th>PAYMENT MONTH</th>\n",
       "      <th>APPLICATION REQUIREMENTS COMPLETE YEAR</th>\n",
       "      <th>LICENSE TERM START YEAR</th>\n",
       "      <th>LICENSE TERM EXPIRATION YEAR</th>\n",
       "      <th>LICENSE APPROVAL YEAR</th>\n",
       "      <th>DATE ISSUED YEAR</th>\n",
       "      <th>LICENSE STATUS CHANGE YEAR</th>\n",
       "    </tr>\n",
       "  </thead>\n",
       "  <tbody>\n",
       "    <tr>\n",
       "      <td>0</td>\n",
       "      <td>CARMEN CAHUE</td>\n",
       "      <td>CLAUDIA'S BRIDAL SHOP</td>\n",
       "      <td>CHICAGO</td>\n",
       "      <td>IL</td>\n",
       "      <td>60623.0</td>\n",
       "      <td>22.0</td>\n",
       "      <td>28.0</td>\n",
       "      <td>22-28</td>\n",
       "      <td>10.0</td>\n",
       "      <td>1010</td>\n",
       "      <td>...</td>\n",
       "      <td>-87.714618</td>\n",
       "      <td>AAI</td>\n",
       "      <td>2002.0</td>\n",
       "      <td>8.0</td>\n",
       "      <td>2002.0</td>\n",
       "      <td>2002.0</td>\n",
       "      <td>2003.0</td>\n",
       "      <td>2002.0</td>\n",
       "      <td>2006</td>\n",
       "      <td>NaN</td>\n",
       "    </tr>\n",
       "    <tr>\n",
       "      <td>1</td>\n",
       "      <td>ISLA TROPICAL, INC.</td>\n",
       "      <td>ISLA TROPICAL</td>\n",
       "      <td>CHICAGO</td>\n",
       "      <td>IL</td>\n",
       "      <td>60618</td>\n",
       "      <td>33.0</td>\n",
       "      <td>23.0</td>\n",
       "      <td>33-23</td>\n",
       "      <td>17.0</td>\n",
       "      <td>1315</td>\n",
       "      <td>...</td>\n",
       "      <td>-87.699626</td>\n",
       "      <td>AAC</td>\n",
       "      <td>2005.0</td>\n",
       "      <td>11.0</td>\n",
       "      <td>2005.0</td>\n",
       "      <td>2005.0</td>\n",
       "      <td>2006.0</td>\n",
       "      <td>2006.0</td>\n",
       "      <td>2006</td>\n",
       "      <td>2006.0</td>\n",
       "    </tr>\n",
       "    <tr>\n",
       "      <td>2</td>\n",
       "      <td>DJS REMODELING</td>\n",
       "      <td>DJS REMODELING, INC.</td>\n",
       "      <td>HIGHLAND</td>\n",
       "      <td>IL</td>\n",
       "      <td>60035</td>\n",
       "      <td>0.0</td>\n",
       "      <td>0.0</td>\n",
       "      <td>0</td>\n",
       "      <td>0.0</td>\n",
       "      <td>1011</td>\n",
       "      <td>...</td>\n",
       "      <td>-87.681165</td>\n",
       "      <td>AAI</td>\n",
       "      <td>2009.0</td>\n",
       "      <td>7.0</td>\n",
       "      <td>2009.0</td>\n",
       "      <td>2009.0</td>\n",
       "      <td>2011.0</td>\n",
       "      <td>2009.0</td>\n",
       "      <td>2009</td>\n",
       "      <td>NaN</td>\n",
       "    </tr>\n",
       "    <tr>\n",
       "      <td>3</td>\n",
       "      <td>ALL-BRY CONSTRUCTION CO.</td>\n",
       "      <td>ALL-BRY CONSTRUCTION CO.</td>\n",
       "      <td>LEMONT</td>\n",
       "      <td>IL</td>\n",
       "      <td>60439</td>\n",
       "      <td>0.0</td>\n",
       "      <td>0.0</td>\n",
       "      <td>0</td>\n",
       "      <td>0.0</td>\n",
       "      <td>1010</td>\n",
       "      <td>...</td>\n",
       "      <td>-87.681165</td>\n",
       "      <td>AAI</td>\n",
       "      <td>2004.0</td>\n",
       "      <td>2.0</td>\n",
       "      <td>2004.0</td>\n",
       "      <td>2004.0</td>\n",
       "      <td>2005.0</td>\n",
       "      <td>2004.0</td>\n",
       "      <td>2004</td>\n",
       "      <td>NaN</td>\n",
       "    </tr>\n",
       "    <tr>\n",
       "      <td>4</td>\n",
       "      <td>MCDONOUGH MECHANICAL SERVICE</td>\n",
       "      <td>MCDONOUGH MECHANICAL SERVICE</td>\n",
       "      <td>WAUKEGAN</td>\n",
       "      <td>IL</td>\n",
       "      <td>60087</td>\n",
       "      <td>0.0</td>\n",
       "      <td>0.0</td>\n",
       "      <td>0</td>\n",
       "      <td>0.0</td>\n",
       "      <td>1010</td>\n",
       "      <td>...</td>\n",
       "      <td>-87.681165</td>\n",
       "      <td>AAI</td>\n",
       "      <td>2008.0</td>\n",
       "      <td>6.0</td>\n",
       "      <td>2008.0</td>\n",
       "      <td>2008.0</td>\n",
       "      <td>2010.0</td>\n",
       "      <td>2008.0</td>\n",
       "      <td>2008</td>\n",
       "      <td>NaN</td>\n",
       "    </tr>\n",
       "  </tbody>\n",
       "</table>\n",
       "<p>5 rows × 32 columns</p>\n",
       "</div>"
      ],
      "text/plain": [
       "                     LEGAL NAME        DOING BUSINESS AS NAME      CITY STATE  \\\n",
       "0                  CARMEN CAHUE         CLAUDIA'S BRIDAL SHOP   CHICAGO    IL   \n",
       "1           ISLA TROPICAL, INC.                 ISLA TROPICAL   CHICAGO    IL   \n",
       "2                DJS REMODELING          DJS REMODELING, INC.  HIGHLAND    IL   \n",
       "3      ALL-BRY CONSTRUCTION CO.      ALL-BRY CONSTRUCTION CO.    LEMONT    IL   \n",
       "4  MCDONOUGH MECHANICAL SERVICE  MCDONOUGH MECHANICAL SERVICE  WAUKEGAN    IL   \n",
       "\n",
       "  ZIP CODE  WARD  PRECINCT WARD PRECINCT  POLICE DISTRICT  LICENSE CODE  ...  \\\n",
       "0  60623.0  22.0      28.0         22-28             10.0          1010  ...   \n",
       "1    60618  33.0      23.0         33-23             17.0          1315  ...   \n",
       "2    60035   0.0       0.0             0              0.0          1011  ...   \n",
       "3    60439   0.0       0.0             0              0.0          1010  ...   \n",
       "4    60087   0.0       0.0             0              0.0          1010  ...   \n",
       "\n",
       "   LONGITUDE  LICENSE STATUS PAYMENT YEAR PAYMENT MONTH  \\\n",
       "0 -87.714618             AAI       2002.0           8.0   \n",
       "1 -87.699626             AAC       2005.0          11.0   \n",
       "2 -87.681165             AAI       2009.0           7.0   \n",
       "3 -87.681165             AAI       2004.0           2.0   \n",
       "4 -87.681165             AAI       2008.0           6.0   \n",
       "\n",
       "  APPLICATION REQUIREMENTS COMPLETE YEAR LICENSE TERM START YEAR  \\\n",
       "0                                 2002.0                  2002.0   \n",
       "1                                 2005.0                  2005.0   \n",
       "2                                 2009.0                  2009.0   \n",
       "3                                 2004.0                  2004.0   \n",
       "4                                 2008.0                  2008.0   \n",
       "\n",
       "  LICENSE TERM EXPIRATION YEAR LICENSE APPROVAL YEAR DATE ISSUED YEAR  \\\n",
       "0                       2003.0                2002.0             2006   \n",
       "1                       2006.0                2006.0             2006   \n",
       "2                       2011.0                2009.0             2009   \n",
       "3                       2005.0                2004.0             2004   \n",
       "4                       2010.0                2008.0             2008   \n",
       "\n",
       "  LICENSE STATUS CHANGE YEAR  \n",
       "0                        NaN  \n",
       "1                     2006.0  \n",
       "2                        NaN  \n",
       "3                        NaN  \n",
       "4                        NaN  \n",
       "\n",
       "[5 rows x 32 columns]"
      ]
     },
     "execution_count": 102,
     "metadata": {},
     "output_type": "execute_result"
    }
   ],
   "source": [
    "training_data.head()"
   ]
  },
  {
   "cell_type": "code",
   "execution_count": 108,
   "metadata": {},
   "outputs": [
    {
     "data": {
      "text/plain": [
       "LEGAL NAME                                    0\n",
       "DOING BUSINESS AS NAME                        1\n",
       "CITY                                          0\n",
       "STATE                                         0\n",
       "ZIP CODE                                     31\n",
       "WARD                                          0\n",
       "PRECINCT                                      0\n",
       "WARD PRECINCT                                 0\n",
       "POLICE DISTRICT                               0\n",
       "LICENSE CODE                                  0\n",
       "LICENSE DESCRIPTION                           0\n",
       "LICENSE NUMBER                                0\n",
       "APPLICATION TYPE                              0\n",
       "APPLICATION REQUIREMENTS COMPLETE           214\n",
       "PAYMENT DATE                               1289\n",
       "CONDITIONAL APPROVAL                          0\n",
       "LICENSE TERM START DATE                     228\n",
       "LICENSE TERM EXPIRATION DATE                 18\n",
       "LICENSE APPROVED FOR ISSUANCE              6789\n",
       "DATE ISSUED                                   0\n",
       "LICENSE STATUS CHANGE DATE                55400\n",
       "LATITUDE                                      0\n",
       "LONGITUDE                                     0\n",
       "LICENSE STATUS                                0\n",
       "PAYMENT YEAR                               1289\n",
       "PAYMENT MONTH                              1289\n",
       "APPLICATION REQUIREMENTS COMPLETE YEAR      214\n",
       "LICENSE TERM START YEAR                     228\n",
       "LICENSE TERM EXPIRATION YEAR                 18\n",
       "LICENSE APPROVAL YEAR                      6789\n",
       "DATE ISSUED YEAR                              0\n",
       "LICENSE STATUS CHANGE YEAR                55400\n",
       "dtype: int64"
      ]
     },
     "execution_count": 108,
     "metadata": {},
     "output_type": "execute_result"
    }
   ],
   "source": [
    "training_data.isna().sum()\n",
    "#(training_data.dtypes)"
   ]
  },
  {
   "cell_type": "code",
   "execution_count": 109,
   "metadata": {},
   "outputs": [],
   "source": [
    "imputation_list = ['LICENSE STATUS CHANGE YEAR','LICENSE APPROVAL YEAR','LICENSE TERM EXPIRATION YEAR',\n",
    "                   'LICENSE TERM START YEAR','APPLICATION REQUIREMENTS COMPLETE YEAR','PAYMENT YEAR']"
   ]
  },
  {
   "cell_type": "code",
   "execution_count": 111,
   "metadata": {},
   "outputs": [],
   "source": [
    "impute_with_zero(['PAYMENT MONTH'])"
   ]
  },
  {
   "cell_type": "code",
   "execution_count": 112,
   "metadata": {},
   "outputs": [],
   "source": [
    "for i in imputation_list:\n",
    "    training_data[i] = training_data[i].fillna(round(training_data[i].mean()))"
   ]
  },
  {
   "cell_type": "code",
   "execution_count": 113,
   "metadata": {},
   "outputs": [],
   "source": [
    "for i in imputation_list:\n",
    "    testing_data[i] = testing_data[i].fillna(round(testing_data[i].mean()))"
   ]
  },
  {
   "cell_type": "code",
   "execution_count": 114,
   "metadata": {},
   "outputs": [
    {
     "data": {
      "text/plain": [
       "LEGAL NAME                                    0\n",
       "DOING BUSINESS AS NAME                        1\n",
       "CITY                                          0\n",
       "STATE                                         0\n",
       "ZIP CODE                                     31\n",
       "WARD                                          0\n",
       "PRECINCT                                      0\n",
       "WARD PRECINCT                                 0\n",
       "POLICE DISTRICT                               0\n",
       "LICENSE CODE                                  0\n",
       "LICENSE DESCRIPTION                           0\n",
       "LICENSE NUMBER                                0\n",
       "APPLICATION TYPE                              0\n",
       "APPLICATION REQUIREMENTS COMPLETE           214\n",
       "PAYMENT DATE                               1289\n",
       "CONDITIONAL APPROVAL                          0\n",
       "LICENSE TERM START DATE                     228\n",
       "LICENSE TERM EXPIRATION DATE                 18\n",
       "LICENSE APPROVED FOR ISSUANCE              6789\n",
       "DATE ISSUED                                   0\n",
       "LICENSE STATUS CHANGE DATE                55400\n",
       "LATITUDE                                      0\n",
       "LONGITUDE                                     0\n",
       "LICENSE STATUS                                0\n",
       "PAYMENT YEAR                                  0\n",
       "PAYMENT MONTH                                 0\n",
       "APPLICATION REQUIREMENTS COMPLETE YEAR        0\n",
       "LICENSE TERM START YEAR                       0\n",
       "LICENSE TERM EXPIRATION YEAR                  0\n",
       "LICENSE APPROVAL YEAR                         0\n",
       "DATE ISSUED YEAR                              0\n",
       "LICENSE STATUS CHANGE YEAR                    0\n",
       "dtype: int64"
      ]
     },
     "execution_count": 114,
     "metadata": {},
     "output_type": "execute_result"
    }
   ],
   "source": [
    "training_data.isna().sum()"
   ]
  },
  {
   "cell_type": "code",
   "execution_count": 115,
   "metadata": {},
   "outputs": [],
   "source": [
    "training_data['LICENSE TENURE'] = abs(training_data['LICENSE TERM EXPIRATION YEAR'] - training_data['LICENSE TERM START YEAR'])"
   ]
  },
  {
   "cell_type": "code",
   "execution_count": 116,
   "metadata": {},
   "outputs": [],
   "source": [
    "testing_data['LICENSE TENURE'] = abs(testing_data['LICENSE TERM EXPIRATION YEAR'] - testing_data['LICENSE TERM START YEAR'])"
   ]
  },
  {
   "cell_type": "code",
   "execution_count": 120,
   "metadata": {},
   "outputs": [
    {
     "data": {
      "text/plain": [
       "LEGAL NAME                                        object\n",
       "DOING BUSINESS AS NAME                            object\n",
       "CITY                                              object\n",
       "STATE                                             object\n",
       "ZIP CODE                                          object\n",
       "WARD                                             float64\n",
       "PRECINCT                                         float64\n",
       "WARD PRECINCT                                     object\n",
       "POLICE DISTRICT                                  float64\n",
       "LICENSE CODE                                       int64\n",
       "LICENSE DESCRIPTION                               object\n",
       "LICENSE NUMBER                                   float64\n",
       "APPLICATION TYPE                                  object\n",
       "APPLICATION REQUIREMENTS COMPLETE         datetime64[ns]\n",
       "PAYMENT DATE                              datetime64[ns]\n",
       "CONDITIONAL APPROVAL                              object\n",
       "LICENSE TERM START DATE                   datetime64[ns]\n",
       "LICENSE TERM EXPIRATION DATE              datetime64[ns]\n",
       "LICENSE APPROVED FOR ISSUANCE             datetime64[ns]\n",
       "DATE ISSUED                               datetime64[ns]\n",
       "LICENSE STATUS CHANGE DATE                datetime64[ns]\n",
       "LATITUDE                                         float64\n",
       "LONGITUDE                                        float64\n",
       "LICENSE STATUS                                    object\n",
       "PAYMENT YEAR                                     float64\n",
       "PAYMENT MONTH                                    float64\n",
       "APPLICATION REQUIREMENTS COMPLETE YEAR           float64\n",
       "LICENSE TERM START YEAR                          float64\n",
       "LICENSE TERM EXPIRATION YEAR                     float64\n",
       "LICENSE APPROVAL YEAR                            float64\n",
       "DATE ISSUED YEAR                                   int64\n",
       "LICENSE STATUS CHANGE YEAR                       float64\n",
       "LICENSE TENURE                                   float64\n",
       "dtype: object"
      ]
     },
     "execution_count": 120,
     "metadata": {},
     "output_type": "execute_result"
    }
   ],
   "source": [
    "training_data.dtypes"
   ]
  },
  {
   "cell_type": "code",
   "execution_count": 121,
   "metadata": {},
   "outputs": [],
   "source": [
    "drop_col_list = ['PAYMENT DATE','APPLICATION REQUIREMENTS COMPLETE','LICENSE TERM EXPIRATION DATE','DATE ISSUED',\n",
    "                'LICENSE TERM EXPIRATION YEAR','LICENSE TERM START DATE','LICENSE TERM START YEAR',\n",
    "                'LICENSE APPROVED FOR ISSUANCE','LICENSE STATUS CHANGE DATE']"
   ]
  },
  {
   "cell_type": "code",
   "execution_count": 126,
   "metadata": {},
   "outputs": [],
   "source": [
    "#training_data.drop(drop_col_list,axis=1,inplace=True)\n",
    "testing_data.drop(drop_col_list,axis=1,inplace=True)"
   ]
  },
  {
   "cell_type": "code",
   "execution_count": 130,
   "metadata": {},
   "outputs": [
    {
     "data": {
      "text/plain": [
       "LEGAL NAME                                 0\n",
       "DOING BUSINESS AS NAME                     1\n",
       "CITY                                       0\n",
       "STATE                                      0\n",
       "ZIP CODE                                  31\n",
       "WARD                                       0\n",
       "PRECINCT                                   0\n",
       "WARD PRECINCT                              0\n",
       "POLICE DISTRICT                            0\n",
       "LICENSE CODE                               0\n",
       "LICENSE DESCRIPTION                        0\n",
       "LICENSE NUMBER                             0\n",
       "APPLICATION TYPE                           0\n",
       "CONDITIONAL APPROVAL                       0\n",
       "LATITUDE                                   0\n",
       "LONGITUDE                                  0\n",
       "LICENSE STATUS                             0\n",
       "PAYMENT YEAR                               0\n",
       "PAYMENT MONTH                              0\n",
       "APPLICATION REQUIREMENTS COMPLETE YEAR     0\n",
       "LICENSE APPROVAL YEAR                      0\n",
       "DATE ISSUED YEAR                           0\n",
       "LICENSE STATUS CHANGE YEAR                 0\n",
       "LICENSE TENURE                             0\n",
       "dtype: int64"
      ]
     },
     "execution_count": 130,
     "metadata": {},
     "output_type": "execute_result"
    }
   ],
   "source": [
    "training_data.isna().sum()"
   ]
  },
  {
   "cell_type": "code",
   "execution_count": 131,
   "metadata": {},
   "outputs": [],
   "source": [
    "training_data['ZIP CODE'] = training_data[\"ZIP CODE\"].fillna('None')\n",
    "testing_data['ZIP CODE'] = testing_data[\"ZIP CODE\"].fillna('None')\n",
    "training_data['DOING BUSINESS AS NAME'] = training_data[\"DOING BUSINESS AS NAME\"].fillna('None')\n",
    "testing_data['DOING BUSINESS AS NAME'] = testing_data[\"DOING BUSINESS AS NAME\"].fillna('None')"
   ]
  },
  {
   "cell_type": "code",
   "execution_count": 132,
   "metadata": {},
   "outputs": [
    {
     "data": {
      "text/plain": [
       "LEGAL NAME                                0\n",
       "DOING BUSINESS AS NAME                    0\n",
       "CITY                                      0\n",
       "STATE                                     0\n",
       "ZIP CODE                                  0\n",
       "WARD                                      0\n",
       "PRECINCT                                  0\n",
       "WARD PRECINCT                             0\n",
       "POLICE DISTRICT                           0\n",
       "LICENSE CODE                              0\n",
       "LICENSE DESCRIPTION                       0\n",
       "LICENSE NUMBER                            0\n",
       "APPLICATION TYPE                          0\n",
       "CONDITIONAL APPROVAL                      0\n",
       "LATITUDE                                  0\n",
       "LONGITUDE                                 0\n",
       "LICENSE STATUS                            0\n",
       "PAYMENT YEAR                              0\n",
       "PAYMENT MONTH                             0\n",
       "APPLICATION REQUIREMENTS COMPLETE YEAR    0\n",
       "LICENSE APPROVAL YEAR                     0\n",
       "DATE ISSUED YEAR                          0\n",
       "LICENSE STATUS CHANGE YEAR                0\n",
       "LICENSE TENURE                            0\n",
       "dtype: int64"
      ]
     },
     "execution_count": 132,
     "metadata": {},
     "output_type": "execute_result"
    }
   ],
   "source": [
    "training_data.isna().sum()"
   ]
  },
  {
   "cell_type": "code",
   "execution_count": 137,
   "metadata": {},
   "outputs": [
    {
     "data": {
      "text/plain": [
       "(85895, 24)"
      ]
     },
     "execution_count": 137,
     "metadata": {},
     "output_type": "execute_result"
    }
   ],
   "source": [
    "training_data.shape"
   ]
  },
  {
   "cell_type": "code",
   "execution_count": 138,
   "metadata": {},
   "outputs": [
    {
     "data": {
      "text/plain": [
       "(57239, 23)"
      ]
     },
     "execution_count": 138,
     "metadata": {},
     "output_type": "execute_result"
    }
   ],
   "source": [
    "testing_data.shape"
   ]
  },
  {
   "cell_type": "code",
   "execution_count": 142,
   "metadata": {},
   "outputs": [],
   "source": [
    "def clean_cols(cols):\n",
    "    for i in cols:\n",
    "        training_data[i] = training_data[i].apply(lambda string:string.upper())\n",
    "        training_data[i] = training_data[i].str.replace(\".\",\" \",regex=False)\n",
    "        testing_data[i] = testing_data[i].apply(lambda string:string.upper())\n",
    "        testing_data[i] = testing_data[i].str.replace(\".\",\" \",regex=False)"
   ]
  },
  {
   "cell_type": "code",
   "execution_count": 144,
   "metadata": {},
   "outputs": [],
   "source": [
    "cols = ['LEGAL NAME','DOING BUSINESS AS NAME']\n",
    "clean_cols(cols)"
   ]
  },
  {
   "cell_type": "code",
   "execution_count": 146,
   "metadata": {},
   "outputs": [
    {
     "data": {
      "text/plain": [
       "(85895, 24)"
      ]
     },
     "execution_count": 146,
     "metadata": {},
     "output_type": "execute_result"
    }
   ],
   "source": [
    "training_data.shape"
   ]
  },
  {
   "cell_type": "code",
   "execution_count": 147,
   "metadata": {},
   "outputs": [],
   "source": [
    "training_data['BUSINESS TYPE'] = 'PRIVATE'\n",
    "testing_data['BUSINESS TYPE'] = 'PRIVATE'"
   ]
  },
  {
   "cell_type": "code",
   "execution_count": 148,
   "metadata": {},
   "outputs": [],
   "source": [
    "training_data['BUSINESS TYPE'] = np.where(training_data['LEGAL NAME'].str.contains('INC'),'INCO',training_data['BUSINESS TYPE'])\n",
    "training_data['BUSINESS TYPE'] = np.where(training_data['LEGAL NAME'].str.contains('INCORPORATED'),'INCO',training_data['BUSINESS TYPE'])\n",
    "testing_data['BUSINESS TYPE'] = np.where(testing_data['LEGAL NAME'].str.contains('INC'),'INCO',testing_data['BUSINESS TYPE'])\n",
    "testing_data['BUSINESS TYPE'] = np.where(testing_data['LEGAL NAME'].str.contains('INCORPORATED'),'INCO',testing_data['BUSINESS TYPE'])"
   ]
  },
  {
   "cell_type": "code",
   "execution_count": 149,
   "metadata": {},
   "outputs": [],
   "source": [
    "training_data['BUSINESS TYPE'] = np.where(training_data['DOING BUSINESS AS NAME'].str.contains('INC'),'INCO',training_data['BUSINESS TYPE'])\n",
    "training_data['BUSINESS TYPE'] = np.where(training_data['DOING BUSINESS AS NAME'].str.contains('INCORPORATED'),'INCO',training_data['BUSINESS TYPE'])\n",
    "testing_data['BUSINESS TYPE'] = np.where(testing_data['DOING BUSINESS AS NAME'].str.contains('INC'),'INCO',testing_data['BUSINESS TYPE'])\n",
    "testing_data['BUSINESS TYPE'] = np.where(testing_data['DOING BUSINESS AS NAME'].str.contains('INCORPORATED'),'INCO',testing_data['BUSINESS TYPE'])"
   ]
  },
  {
   "cell_type": "code",
   "execution_count": 150,
   "metadata": {},
   "outputs": [],
   "source": [
    "training_data['BUSINESS TYPE'] = np.where(training_data['LEGAL NAME'].str.contains('LLC'),'LLC',training_data['BUSINESS TYPE'])\n",
    "testing_data['BUSINESS TYPE'] = np.where(testing_data['LEGAL NAME'].str.contains('LLC'),'LLC',testing_data['BUSINESS TYPE'])\n",
    "\n",
    "training_data['BUSINESS TYPE'] = np.where(training_data['DOING BUSINESS AS NAME'].str.contains('LLC'),'LLC',training_data['BUSINESS TYPE'])\n",
    "testing_data['BUSINESS TYPE'] = np.where(testing_data['DOING BUSINESS AS NAME'].str.contains('LLC'),'LLC',testing_data['BUSINESS TYPE'])"
   ]
  },
  {
   "cell_type": "code",
   "execution_count": 151,
   "metadata": {},
   "outputs": [
    {
     "data": {
      "text/html": [
       "<div>\n",
       "<style scoped>\n",
       "    .dataframe tbody tr th:only-of-type {\n",
       "        vertical-align: middle;\n",
       "    }\n",
       "\n",
       "    .dataframe tbody tr th {\n",
       "        vertical-align: top;\n",
       "    }\n",
       "\n",
       "    .dataframe thead th {\n",
       "        text-align: right;\n",
       "    }\n",
       "</style>\n",
       "<table border=\"1\" class=\"dataframe\">\n",
       "  <thead>\n",
       "    <tr style=\"text-align: right;\">\n",
       "      <th></th>\n",
       "      <th>LEGAL NAME</th>\n",
       "      <th>DOING BUSINESS AS NAME</th>\n",
       "      <th>CITY</th>\n",
       "      <th>STATE</th>\n",
       "      <th>ZIP CODE</th>\n",
       "      <th>WARD</th>\n",
       "      <th>PRECINCT</th>\n",
       "      <th>WARD PRECINCT</th>\n",
       "      <th>POLICE DISTRICT</th>\n",
       "      <th>LICENSE CODE</th>\n",
       "      <th>...</th>\n",
       "      <th>LONGITUDE</th>\n",
       "      <th>LICENSE STATUS</th>\n",
       "      <th>PAYMENT YEAR</th>\n",
       "      <th>PAYMENT MONTH</th>\n",
       "      <th>APPLICATION REQUIREMENTS COMPLETE YEAR</th>\n",
       "      <th>LICENSE APPROVAL YEAR</th>\n",
       "      <th>DATE ISSUED YEAR</th>\n",
       "      <th>LICENSE STATUS CHANGE YEAR</th>\n",
       "      <th>LICENSE TENURE</th>\n",
       "      <th>BUSINESS TYPE</th>\n",
       "    </tr>\n",
       "  </thead>\n",
       "  <tbody>\n",
       "    <tr>\n",
       "      <td>0</td>\n",
       "      <td>CARMEN CAHUE</td>\n",
       "      <td>CLAUDIA'S BRIDAL SHOP</td>\n",
       "      <td>CHICAGO</td>\n",
       "      <td>IL</td>\n",
       "      <td>60623.0</td>\n",
       "      <td>22.0</td>\n",
       "      <td>28.0</td>\n",
       "      <td>22-28</td>\n",
       "      <td>10.0</td>\n",
       "      <td>1010</td>\n",
       "      <td>...</td>\n",
       "      <td>-87.714618</td>\n",
       "      <td>AAI</td>\n",
       "      <td>2002.0</td>\n",
       "      <td>8.0</td>\n",
       "      <td>2002.0</td>\n",
       "      <td>2002.0</td>\n",
       "      <td>2006</td>\n",
       "      <td>2009.0</td>\n",
       "      <td>1.0</td>\n",
       "      <td>PRIVATE</td>\n",
       "    </tr>\n",
       "    <tr>\n",
       "      <td>1</td>\n",
       "      <td>ISLA TROPICAL, INC</td>\n",
       "      <td>ISLA TROPICAL</td>\n",
       "      <td>CHICAGO</td>\n",
       "      <td>IL</td>\n",
       "      <td>60618</td>\n",
       "      <td>33.0</td>\n",
       "      <td>23.0</td>\n",
       "      <td>33-23</td>\n",
       "      <td>17.0</td>\n",
       "      <td>1315</td>\n",
       "      <td>...</td>\n",
       "      <td>-87.699626</td>\n",
       "      <td>AAC</td>\n",
       "      <td>2005.0</td>\n",
       "      <td>11.0</td>\n",
       "      <td>2005.0</td>\n",
       "      <td>2006.0</td>\n",
       "      <td>2006</td>\n",
       "      <td>2006.0</td>\n",
       "      <td>1.0</td>\n",
       "      <td>INCO</td>\n",
       "    </tr>\n",
       "    <tr>\n",
       "      <td>2</td>\n",
       "      <td>DJS REMODELING</td>\n",
       "      <td>DJS REMODELING, INC</td>\n",
       "      <td>HIGHLAND</td>\n",
       "      <td>IL</td>\n",
       "      <td>60035</td>\n",
       "      <td>0.0</td>\n",
       "      <td>0.0</td>\n",
       "      <td>0</td>\n",
       "      <td>0.0</td>\n",
       "      <td>1011</td>\n",
       "      <td>...</td>\n",
       "      <td>-87.681165</td>\n",
       "      <td>AAI</td>\n",
       "      <td>2009.0</td>\n",
       "      <td>7.0</td>\n",
       "      <td>2009.0</td>\n",
       "      <td>2009.0</td>\n",
       "      <td>2009</td>\n",
       "      <td>2009.0</td>\n",
       "      <td>2.0</td>\n",
       "      <td>INCO</td>\n",
       "    </tr>\n",
       "    <tr>\n",
       "      <td>3</td>\n",
       "      <td>ALL-BRY CONSTRUCTION CO</td>\n",
       "      <td>ALL-BRY CONSTRUCTION CO</td>\n",
       "      <td>LEMONT</td>\n",
       "      <td>IL</td>\n",
       "      <td>60439</td>\n",
       "      <td>0.0</td>\n",
       "      <td>0.0</td>\n",
       "      <td>0</td>\n",
       "      <td>0.0</td>\n",
       "      <td>1010</td>\n",
       "      <td>...</td>\n",
       "      <td>-87.681165</td>\n",
       "      <td>AAI</td>\n",
       "      <td>2004.0</td>\n",
       "      <td>2.0</td>\n",
       "      <td>2004.0</td>\n",
       "      <td>2004.0</td>\n",
       "      <td>2004</td>\n",
       "      <td>2009.0</td>\n",
       "      <td>1.0</td>\n",
       "      <td>PRIVATE</td>\n",
       "    </tr>\n",
       "    <tr>\n",
       "      <td>4</td>\n",
       "      <td>MCDONOUGH MECHANICAL SERVICE</td>\n",
       "      <td>MCDONOUGH MECHANICAL SERVICE</td>\n",
       "      <td>WAUKEGAN</td>\n",
       "      <td>IL</td>\n",
       "      <td>60087</td>\n",
       "      <td>0.0</td>\n",
       "      <td>0.0</td>\n",
       "      <td>0</td>\n",
       "      <td>0.0</td>\n",
       "      <td>1010</td>\n",
       "      <td>...</td>\n",
       "      <td>-87.681165</td>\n",
       "      <td>AAI</td>\n",
       "      <td>2008.0</td>\n",
       "      <td>6.0</td>\n",
       "      <td>2008.0</td>\n",
       "      <td>2008.0</td>\n",
       "      <td>2008</td>\n",
       "      <td>2009.0</td>\n",
       "      <td>2.0</td>\n",
       "      <td>PRIVATE</td>\n",
       "    </tr>\n",
       "  </tbody>\n",
       "</table>\n",
       "<p>5 rows × 25 columns</p>\n",
       "</div>"
      ],
      "text/plain": [
       "                     LEGAL NAME        DOING BUSINESS AS NAME      CITY STATE  \\\n",
       "0                  CARMEN CAHUE         CLAUDIA'S BRIDAL SHOP   CHICAGO    IL   \n",
       "1           ISLA TROPICAL, INC                  ISLA TROPICAL   CHICAGO    IL   \n",
       "2                DJS REMODELING          DJS REMODELING, INC   HIGHLAND    IL   \n",
       "3      ALL-BRY CONSTRUCTION CO       ALL-BRY CONSTRUCTION CO     LEMONT    IL   \n",
       "4  MCDONOUGH MECHANICAL SERVICE  MCDONOUGH MECHANICAL SERVICE  WAUKEGAN    IL   \n",
       "\n",
       "  ZIP CODE  WARD  PRECINCT WARD PRECINCT  POLICE DISTRICT  LICENSE CODE  ...  \\\n",
       "0  60623.0  22.0      28.0         22-28             10.0          1010  ...   \n",
       "1    60618  33.0      23.0         33-23             17.0          1315  ...   \n",
       "2    60035   0.0       0.0             0              0.0          1011  ...   \n",
       "3    60439   0.0       0.0             0              0.0          1010  ...   \n",
       "4    60087   0.0       0.0             0              0.0          1010  ...   \n",
       "\n",
       "   LONGITUDE  LICENSE STATUS PAYMENT YEAR PAYMENT MONTH  \\\n",
       "0 -87.714618             AAI       2002.0           8.0   \n",
       "1 -87.699626             AAC       2005.0          11.0   \n",
       "2 -87.681165             AAI       2009.0           7.0   \n",
       "3 -87.681165             AAI       2004.0           2.0   \n",
       "4 -87.681165             AAI       2008.0           6.0   \n",
       "\n",
       "   APPLICATION REQUIREMENTS COMPLETE YEAR  LICENSE APPROVAL YEAR  \\\n",
       "0                                  2002.0                 2002.0   \n",
       "1                                  2005.0                 2006.0   \n",
       "2                                  2009.0                 2009.0   \n",
       "3                                  2004.0                 2004.0   \n",
       "4                                  2008.0                 2008.0   \n",
       "\n",
       "  DATE ISSUED YEAR  LICENSE STATUS CHANGE YEAR  LICENSE TENURE  BUSINESS TYPE  \n",
       "0             2006                      2009.0             1.0        PRIVATE  \n",
       "1             2006                      2006.0             1.0           INCO  \n",
       "2             2009                      2009.0             2.0           INCO  \n",
       "3             2004                      2009.0             1.0        PRIVATE  \n",
       "4             2008                      2009.0             2.0        PRIVATE  \n",
       "\n",
       "[5 rows x 25 columns]"
      ]
     },
     "execution_count": 151,
     "metadata": {},
     "output_type": "execute_result"
    }
   ],
   "source": [
    "training_data.head()"
   ]
  },
  {
   "cell_type": "code",
   "execution_count": 152,
   "metadata": {},
   "outputs": [
    {
     "data": {
      "text/html": [
       "<div>\n",
       "<style scoped>\n",
       "    .dataframe tbody tr th:only-of-type {\n",
       "        vertical-align: middle;\n",
       "    }\n",
       "\n",
       "    .dataframe tbody tr th {\n",
       "        vertical-align: top;\n",
       "    }\n",
       "\n",
       "    .dataframe thead th {\n",
       "        text-align: right;\n",
       "    }\n",
       "</style>\n",
       "<table border=\"1\" class=\"dataframe\">\n",
       "  <thead>\n",
       "    <tr style=\"text-align: right;\">\n",
       "      <th></th>\n",
       "      <th>LEGAL NAME</th>\n",
       "      <th>DOING BUSINESS AS NAME</th>\n",
       "      <th>CITY</th>\n",
       "      <th>STATE</th>\n",
       "      <th>ZIP CODE</th>\n",
       "      <th>WARD</th>\n",
       "      <th>PRECINCT</th>\n",
       "      <th>WARD PRECINCT</th>\n",
       "      <th>POLICE DISTRICT</th>\n",
       "      <th>LICENSE CODE</th>\n",
       "      <th>...</th>\n",
       "      <th>LATITUDE</th>\n",
       "      <th>LONGITUDE</th>\n",
       "      <th>PAYMENT YEAR</th>\n",
       "      <th>PAYMENT MONTH</th>\n",
       "      <th>APPLICATION REQUIREMENTS COMPLETE YEAR</th>\n",
       "      <th>LICENSE APPROVAL YEAR</th>\n",
       "      <th>DATE ISSUED YEAR</th>\n",
       "      <th>LICENSE STATUS CHANGE YEAR</th>\n",
       "      <th>LICENSE TENURE</th>\n",
       "      <th>BUSINESS TYPE</th>\n",
       "    </tr>\n",
       "  </thead>\n",
       "  <tbody>\n",
       "    <tr>\n",
       "      <td>0</td>\n",
       "      <td>RS HOMES I LLC</td>\n",
       "      <td>RS HOMES I LLC</td>\n",
       "      <td>CHICAGO</td>\n",
       "      <td>IL</td>\n",
       "      <td>60610</td>\n",
       "      <td>42.0</td>\n",
       "      <td>67.0</td>\n",
       "      <td>42-67</td>\n",
       "      <td>18.0</td>\n",
       "      <td>1020</td>\n",
       "      <td>...</td>\n",
       "      <td>41.890047</td>\n",
       "      <td>-87.637467</td>\n",
       "      <td>2012.0</td>\n",
       "      <td>1.0</td>\n",
       "      <td>2011.0</td>\n",
       "      <td>2012.0</td>\n",
       "      <td>2012</td>\n",
       "      <td>2012.0</td>\n",
       "      <td>2.0</td>\n",
       "      <td>LLC</td>\n",
       "    </tr>\n",
       "    <tr>\n",
       "      <td>1</td>\n",
       "      <td>CSX INTERMODAL INC</td>\n",
       "      <td>CSX INTERMODAL</td>\n",
       "      <td>CHICAGO</td>\n",
       "      <td>IL</td>\n",
       "      <td>60636</td>\n",
       "      <td>16.0</td>\n",
       "      <td>5.0</td>\n",
       "      <td>16-5</td>\n",
       "      <td>7.0</td>\n",
       "      <td>1010</td>\n",
       "      <td>...</td>\n",
       "      <td>41.786485</td>\n",
       "      <td>-87.676665</td>\n",
       "      <td>2012.0</td>\n",
       "      <td>11.0</td>\n",
       "      <td>2011.0</td>\n",
       "      <td>2012.0</td>\n",
       "      <td>2012</td>\n",
       "      <td>2012.0</td>\n",
       "      <td>2.0</td>\n",
       "      <td>INCO</td>\n",
       "    </tr>\n",
       "    <tr>\n",
       "      <td>2</td>\n",
       "      <td>LOCOMIBILE  LOFTS LLC</td>\n",
       "      <td>LOCOMOBILE LOFTS LLC</td>\n",
       "      <td>CHICAGO</td>\n",
       "      <td>IL</td>\n",
       "      <td>60605</td>\n",
       "      <td>4.0</td>\n",
       "      <td>8.0</td>\n",
       "      <td>4-8</td>\n",
       "      <td>1.0</td>\n",
       "      <td>1020</td>\n",
       "      <td>...</td>\n",
       "      <td>41.868269</td>\n",
       "      <td>-87.625695</td>\n",
       "      <td>2004.0</td>\n",
       "      <td>12.0</td>\n",
       "      <td>2004.0</td>\n",
       "      <td>2004.0</td>\n",
       "      <td>2004</td>\n",
       "      <td>2011.0</td>\n",
       "      <td>1.0</td>\n",
       "      <td>LLC</td>\n",
       "    </tr>\n",
       "    <tr>\n",
       "      <td>3</td>\n",
       "      <td>ANNA F  JAMISON</td>\n",
       "      <td>ANNA F  JAMISON</td>\n",
       "      <td>CHICAGO</td>\n",
       "      <td>IL</td>\n",
       "      <td>60827</td>\n",
       "      <td>9.0</td>\n",
       "      <td>33.0</td>\n",
       "      <td>9-33</td>\n",
       "      <td>5.0</td>\n",
       "      <td>1607</td>\n",
       "      <td>...</td>\n",
       "      <td>41.655762</td>\n",
       "      <td>-87.608686</td>\n",
       "      <td>2010.0</td>\n",
       "      <td>11.0</td>\n",
       "      <td>2010.0</td>\n",
       "      <td>2008.0</td>\n",
       "      <td>2010</td>\n",
       "      <td>2012.0</td>\n",
       "      <td>2.0</td>\n",
       "      <td>PRIVATE</td>\n",
       "    </tr>\n",
       "    <tr>\n",
       "      <td>4</td>\n",
       "      <td>MARINCA A  COVARRUBIAS</td>\n",
       "      <td>DETAILS</td>\n",
       "      <td>CHICAGO</td>\n",
       "      <td>IL</td>\n",
       "      <td>60632</td>\n",
       "      <td>15.0</td>\n",
       "      <td>26.0</td>\n",
       "      <td>15-26</td>\n",
       "      <td>9.0</td>\n",
       "      <td>1010</td>\n",
       "      <td>...</td>\n",
       "      <td>41.816969</td>\n",
       "      <td>-87.699785</td>\n",
       "      <td>2007.0</td>\n",
       "      <td>8.0</td>\n",
       "      <td>2007.0</td>\n",
       "      <td>2007.0</td>\n",
       "      <td>2007</td>\n",
       "      <td>2008.0</td>\n",
       "      <td>2.0</td>\n",
       "      <td>INCO</td>\n",
       "    </tr>\n",
       "  </tbody>\n",
       "</table>\n",
       "<p>5 rows × 24 columns</p>\n",
       "</div>"
      ],
      "text/plain": [
       "               LEGAL NAME DOING BUSINESS AS NAME     CITY STATE ZIP CODE  \\\n",
       "0          RS HOMES I LLC         RS HOMES I LLC  CHICAGO    IL    60610   \n",
       "1      CSX INTERMODAL INC         CSX INTERMODAL  CHICAGO    IL    60636   \n",
       "2   LOCOMIBILE  LOFTS LLC   LOCOMOBILE LOFTS LLC  CHICAGO    IL    60605   \n",
       "3         ANNA F  JAMISON        ANNA F  JAMISON  CHICAGO    IL    60827   \n",
       "4  MARINCA A  COVARRUBIAS                DETAILS  CHICAGO    IL    60632   \n",
       "\n",
       "   WARD  PRECINCT WARD PRECINCT  POLICE DISTRICT  LICENSE CODE  ...  \\\n",
       "0  42.0      67.0         42-67             18.0          1020  ...   \n",
       "1  16.0       5.0          16-5              7.0          1010  ...   \n",
       "2   4.0       8.0           4-8              1.0          1020  ...   \n",
       "3   9.0      33.0          9-33              5.0          1607  ...   \n",
       "4  15.0      26.0         15-26              9.0          1010  ...   \n",
       "\n",
       "    LATITUDE  LONGITUDE PAYMENT YEAR PAYMENT MONTH  \\\n",
       "0  41.890047 -87.637467       2012.0           1.0   \n",
       "1  41.786485 -87.676665       2012.0          11.0   \n",
       "2  41.868269 -87.625695       2004.0          12.0   \n",
       "3  41.655762 -87.608686       2010.0          11.0   \n",
       "4  41.816969 -87.699785       2007.0           8.0   \n",
       "\n",
       "   APPLICATION REQUIREMENTS COMPLETE YEAR  LICENSE APPROVAL YEAR  \\\n",
       "0                                  2011.0                 2012.0   \n",
       "1                                  2011.0                 2012.0   \n",
       "2                                  2004.0                 2004.0   \n",
       "3                                  2010.0                 2008.0   \n",
       "4                                  2007.0                 2007.0   \n",
       "\n",
       "   DATE ISSUED YEAR  LICENSE STATUS CHANGE YEAR  LICENSE TENURE  BUSINESS TYPE  \n",
       "0              2012                      2012.0             2.0            LLC  \n",
       "1              2012                      2012.0             2.0           INCO  \n",
       "2              2004                      2011.0             1.0            LLC  \n",
       "3              2010                      2012.0             2.0        PRIVATE  \n",
       "4              2007                      2008.0             2.0           INCO  \n",
       "\n",
       "[5 rows x 24 columns]"
      ]
     },
     "execution_count": 152,
     "metadata": {},
     "output_type": "execute_result"
    }
   ],
   "source": [
    "testing_data.head()"
   ]
  },
  {
   "cell_type": "code",
   "execution_count": 153,
   "metadata": {},
   "outputs": [],
   "source": [
    "training_data['BUSINESS TYPE'] = np.where(training_data['LEGAL NAME'].str.contains('CO'),'CORP',training_data['BUSINESS TYPE'])\n",
    "testing_data['BUSINESS TYPE'] = np.where(testing_data['LEGAL NAME'].str.contains('CO'),'CORP',testing_data['BUSINESS TYPE'])\n",
    "training_data['BUSINESS TYPE'] = np.where(training_data['LEGAL NAME'].str.contains('CORPORATION'),'CORP',training_data['BUSINESS TYPE'])\n",
    "testing_data['BUSINESS TYPE'] = np.where(testing_data['LEGAL NAME'].str.contains('CORPORATION'),'CORP',testing_data['BUSINESS TYPE'])\n",
    "training_data['BUSINESS TYPE'] = np.where(training_data['LEGAL NAME'].str.contains('CORP'),'CORP',training_data['BUSINESS TYPE'])\n",
    "testing_data['BUSINESS TYPE'] = np.where(testing_data['LEGAL NAME'].str.contains('CORP'),'CORP',testing_data['BUSINESS TYPE'])\n",
    "\n",
    "\n",
    "\n",
    "training_data['BUSINESS TYPE'] = np.where(training_data['DOING BUSINESS AS NAME'].str.contains('CO'),'CORP',training_data['BUSINESS TYPE'])\n",
    "testing_data['BUSINESS TYPE'] = np.where(testing_data['DOING BUSINESS AS NAME'].str.contains('CO'),'CORP',testing_data['BUSINESS TYPE'])\n",
    "training_data['BUSINESS TYPE'] = np.where(training_data['DOING BUSINESS AS NAME'].str.contains('CORPORATION'),'CORP',training_data['BUSINESS TYPE'])\n",
    "testing_data['BUSINESS TYPE'] = np.where(testing_data['DOING BUSINESS AS NAME'].str.contains('CORPORATION'),'CORP',testing_data['BUSINESS TYPE'])\n",
    "training_data['BUSINESS TYPE'] = np.where(training_data['DOING BUSINESS AS NAME'].str.contains('CORP'),'CORP',training_data['BUSINESS TYPE'])\n",
    "testing_data['BUSINESS TYPE'] = np.where(testing_data['DOING BUSINESS AS NAME'].str.contains('CORP'),'CORP',testing_data['BUSINESS TYPE'])"
   ]
  },
  {
   "cell_type": "code",
   "execution_count": 154,
   "metadata": {},
   "outputs": [],
   "source": [
    "training_data['BUSINESS TYPE'] = np.where(training_data['LEGAL NAME'].str.contains('LTD'),'LIMITED',training_data['BUSINESS TYPE'])\n",
    "testing_data['BUSINESS TYPE'] = np.where(testing_data['LEGAL NAME'].str.contains('LIMITED'),'LIMITED',testing_data['BUSINESS TYPE'])\n",
    "training_data['BUSINESS TYPE'] = np.where(training_data['LEGAL NAME'].str.contains('LTD'),'LIMITED',training_data['BUSINESS TYPE'])\n",
    "testing_data['BUSINESS TYPE'] = np.where(testing_data['LEGAL NAME'].str.contains('LIMITED'),'LIMITED',testing_data['BUSINESS TYPE'])\n",
    "\n",
    "\n",
    "training_data['BUSINESS TYPE'] = np.where(training_data['DOING BUSINESS AS NAME'].str.contains('LTD'),'LIMITED',training_data['BUSINESS TYPE'])\n",
    "testing_data['BUSINESS TYPE'] = np.where(testing_data['DOING BUSINESS AS NAME'].str.contains('LIMITED'),'LIMITED',testing_data['BUSINESS TYPE'])\n",
    "training_data['BUSINESS TYPE'] = np.where(training_data['DOING BUSINESS AS NAME'].str.contains('LTD'),'LIMITED',training_data['BUSINESS TYPE'])\n",
    "testing_data['BUSINESS TYPE'] = np.where(testing_data['DOING BUSINESS AS NAME'].str.contains('LIMITED'),'LIMITED',testing_data['BUSINESS TYPE'])\n"
   ]
  },
  {
   "cell_type": "code",
   "execution_count": 155,
   "metadata": {},
   "outputs": [
    {
     "data": {
      "text/html": [
       "<div>\n",
       "<style scoped>\n",
       "    .dataframe tbody tr th:only-of-type {\n",
       "        vertical-align: middle;\n",
       "    }\n",
       "\n",
       "    .dataframe tbody tr th {\n",
       "        vertical-align: top;\n",
       "    }\n",
       "\n",
       "    .dataframe thead th {\n",
       "        text-align: right;\n",
       "    }\n",
       "</style>\n",
       "<table border=\"1\" class=\"dataframe\">\n",
       "  <thead>\n",
       "    <tr style=\"text-align: right;\">\n",
       "      <th></th>\n",
       "      <th>LEGAL NAME</th>\n",
       "      <th>DOING BUSINESS AS NAME</th>\n",
       "      <th>CITY</th>\n",
       "      <th>STATE</th>\n",
       "      <th>ZIP CODE</th>\n",
       "      <th>WARD</th>\n",
       "      <th>PRECINCT</th>\n",
       "      <th>WARD PRECINCT</th>\n",
       "      <th>POLICE DISTRICT</th>\n",
       "      <th>LICENSE CODE</th>\n",
       "      <th>...</th>\n",
       "      <th>LONGITUDE</th>\n",
       "      <th>LICENSE STATUS</th>\n",
       "      <th>PAYMENT YEAR</th>\n",
       "      <th>PAYMENT MONTH</th>\n",
       "      <th>APPLICATION REQUIREMENTS COMPLETE YEAR</th>\n",
       "      <th>LICENSE APPROVAL YEAR</th>\n",
       "      <th>DATE ISSUED YEAR</th>\n",
       "      <th>LICENSE STATUS CHANGE YEAR</th>\n",
       "      <th>LICENSE TENURE</th>\n",
       "      <th>BUSINESS TYPE</th>\n",
       "    </tr>\n",
       "  </thead>\n",
       "  <tbody>\n",
       "    <tr>\n",
       "      <td>0</td>\n",
       "      <td>CARMEN CAHUE</td>\n",
       "      <td>CLAUDIA'S BRIDAL SHOP</td>\n",
       "      <td>CHICAGO</td>\n",
       "      <td>IL</td>\n",
       "      <td>60623.0</td>\n",
       "      <td>22.0</td>\n",
       "      <td>28.0</td>\n",
       "      <td>22-28</td>\n",
       "      <td>10.0</td>\n",
       "      <td>1010</td>\n",
       "      <td>...</td>\n",
       "      <td>-87.714618</td>\n",
       "      <td>AAI</td>\n",
       "      <td>2002.0</td>\n",
       "      <td>8.0</td>\n",
       "      <td>2002.0</td>\n",
       "      <td>2002.0</td>\n",
       "      <td>2006</td>\n",
       "      <td>2009.0</td>\n",
       "      <td>1.0</td>\n",
       "      <td>PRIVATE</td>\n",
       "    </tr>\n",
       "    <tr>\n",
       "      <td>1</td>\n",
       "      <td>ISLA TROPICAL, INC</td>\n",
       "      <td>ISLA TROPICAL</td>\n",
       "      <td>CHICAGO</td>\n",
       "      <td>IL</td>\n",
       "      <td>60618</td>\n",
       "      <td>33.0</td>\n",
       "      <td>23.0</td>\n",
       "      <td>33-23</td>\n",
       "      <td>17.0</td>\n",
       "      <td>1315</td>\n",
       "      <td>...</td>\n",
       "      <td>-87.699626</td>\n",
       "      <td>AAC</td>\n",
       "      <td>2005.0</td>\n",
       "      <td>11.0</td>\n",
       "      <td>2005.0</td>\n",
       "      <td>2006.0</td>\n",
       "      <td>2006</td>\n",
       "      <td>2006.0</td>\n",
       "      <td>1.0</td>\n",
       "      <td>INCO</td>\n",
       "    </tr>\n",
       "    <tr>\n",
       "      <td>2</td>\n",
       "      <td>DJS REMODELING</td>\n",
       "      <td>DJS REMODELING, INC</td>\n",
       "      <td>HIGHLAND</td>\n",
       "      <td>IL</td>\n",
       "      <td>60035</td>\n",
       "      <td>0.0</td>\n",
       "      <td>0.0</td>\n",
       "      <td>0</td>\n",
       "      <td>0.0</td>\n",
       "      <td>1011</td>\n",
       "      <td>...</td>\n",
       "      <td>-87.681165</td>\n",
       "      <td>AAI</td>\n",
       "      <td>2009.0</td>\n",
       "      <td>7.0</td>\n",
       "      <td>2009.0</td>\n",
       "      <td>2009.0</td>\n",
       "      <td>2009</td>\n",
       "      <td>2009.0</td>\n",
       "      <td>2.0</td>\n",
       "      <td>INCO</td>\n",
       "    </tr>\n",
       "    <tr>\n",
       "      <td>3</td>\n",
       "      <td>ALL-BRY CONSTRUCTION CO</td>\n",
       "      <td>ALL-BRY CONSTRUCTION CO</td>\n",
       "      <td>LEMONT</td>\n",
       "      <td>IL</td>\n",
       "      <td>60439</td>\n",
       "      <td>0.0</td>\n",
       "      <td>0.0</td>\n",
       "      <td>0</td>\n",
       "      <td>0.0</td>\n",
       "      <td>1010</td>\n",
       "      <td>...</td>\n",
       "      <td>-87.681165</td>\n",
       "      <td>AAI</td>\n",
       "      <td>2004.0</td>\n",
       "      <td>2.0</td>\n",
       "      <td>2004.0</td>\n",
       "      <td>2004.0</td>\n",
       "      <td>2004</td>\n",
       "      <td>2009.0</td>\n",
       "      <td>1.0</td>\n",
       "      <td>CORP</td>\n",
       "    </tr>\n",
       "    <tr>\n",
       "      <td>4</td>\n",
       "      <td>MCDONOUGH MECHANICAL SERVICE</td>\n",
       "      <td>MCDONOUGH MECHANICAL SERVICE</td>\n",
       "      <td>WAUKEGAN</td>\n",
       "      <td>IL</td>\n",
       "      <td>60087</td>\n",
       "      <td>0.0</td>\n",
       "      <td>0.0</td>\n",
       "      <td>0</td>\n",
       "      <td>0.0</td>\n",
       "      <td>1010</td>\n",
       "      <td>...</td>\n",
       "      <td>-87.681165</td>\n",
       "      <td>AAI</td>\n",
       "      <td>2008.0</td>\n",
       "      <td>6.0</td>\n",
       "      <td>2008.0</td>\n",
       "      <td>2008.0</td>\n",
       "      <td>2008</td>\n",
       "      <td>2009.0</td>\n",
       "      <td>2.0</td>\n",
       "      <td>PRIVATE</td>\n",
       "    </tr>\n",
       "  </tbody>\n",
       "</table>\n",
       "<p>5 rows × 25 columns</p>\n",
       "</div>"
      ],
      "text/plain": [
       "                     LEGAL NAME        DOING BUSINESS AS NAME      CITY STATE  \\\n",
       "0                  CARMEN CAHUE         CLAUDIA'S BRIDAL SHOP   CHICAGO    IL   \n",
       "1           ISLA TROPICAL, INC                  ISLA TROPICAL   CHICAGO    IL   \n",
       "2                DJS REMODELING          DJS REMODELING, INC   HIGHLAND    IL   \n",
       "3      ALL-BRY CONSTRUCTION CO       ALL-BRY CONSTRUCTION CO     LEMONT    IL   \n",
       "4  MCDONOUGH MECHANICAL SERVICE  MCDONOUGH MECHANICAL SERVICE  WAUKEGAN    IL   \n",
       "\n",
       "  ZIP CODE  WARD  PRECINCT WARD PRECINCT  POLICE DISTRICT  LICENSE CODE  ...  \\\n",
       "0  60623.0  22.0      28.0         22-28             10.0          1010  ...   \n",
       "1    60618  33.0      23.0         33-23             17.0          1315  ...   \n",
       "2    60035   0.0       0.0             0              0.0          1011  ...   \n",
       "3    60439   0.0       0.0             0              0.0          1010  ...   \n",
       "4    60087   0.0       0.0             0              0.0          1010  ...   \n",
       "\n",
       "   LONGITUDE  LICENSE STATUS PAYMENT YEAR PAYMENT MONTH  \\\n",
       "0 -87.714618             AAI       2002.0           8.0   \n",
       "1 -87.699626             AAC       2005.0          11.0   \n",
       "2 -87.681165             AAI       2009.0           7.0   \n",
       "3 -87.681165             AAI       2004.0           2.0   \n",
       "4 -87.681165             AAI       2008.0           6.0   \n",
       "\n",
       "   APPLICATION REQUIREMENTS COMPLETE YEAR  LICENSE APPROVAL YEAR  \\\n",
       "0                                  2002.0                 2002.0   \n",
       "1                                  2005.0                 2006.0   \n",
       "2                                  2009.0                 2009.0   \n",
       "3                                  2004.0                 2004.0   \n",
       "4                                  2008.0                 2008.0   \n",
       "\n",
       "  DATE ISSUED YEAR  LICENSE STATUS CHANGE YEAR  LICENSE TENURE  BUSINESS TYPE  \n",
       "0             2006                      2009.0             1.0        PRIVATE  \n",
       "1             2006                      2006.0             1.0           INCO  \n",
       "2             2009                      2009.0             2.0           INCO  \n",
       "3             2004                      2009.0             1.0           CORP  \n",
       "4             2008                      2009.0             2.0        PRIVATE  \n",
       "\n",
       "[5 rows x 25 columns]"
      ]
     },
     "execution_count": 155,
     "metadata": {},
     "output_type": "execute_result"
    }
   ],
   "source": [
    "training_data.head()"
   ]
  },
  {
   "cell_type": "code",
   "execution_count": 156,
   "metadata": {},
   "outputs": [
    {
     "data": {
      "text/plain": [
       "LEGAL NAME                                0\n",
       "DOING BUSINESS AS NAME                    0\n",
       "CITY                                      0\n",
       "STATE                                     0\n",
       "ZIP CODE                                  0\n",
       "WARD                                      0\n",
       "PRECINCT                                  0\n",
       "WARD PRECINCT                             0\n",
       "POLICE DISTRICT                           0\n",
       "LICENSE CODE                              0\n",
       "LICENSE DESCRIPTION                       0\n",
       "LICENSE NUMBER                            0\n",
       "APPLICATION TYPE                          0\n",
       "CONDITIONAL APPROVAL                      0\n",
       "LATITUDE                                  0\n",
       "LONGITUDE                                 0\n",
       "LICENSE STATUS                            0\n",
       "PAYMENT YEAR                              0\n",
       "PAYMENT MONTH                             0\n",
       "APPLICATION REQUIREMENTS COMPLETE YEAR    0\n",
       "LICENSE APPROVAL YEAR                     0\n",
       "DATE ISSUED YEAR                          0\n",
       "LICENSE STATUS CHANGE YEAR                0\n",
       "LICENSE TENURE                            0\n",
       "BUSINESS TYPE                             0\n",
       "dtype: int64"
      ]
     },
     "execution_count": 156,
     "metadata": {},
     "output_type": "execute_result"
    }
   ],
   "source": [
    "training_data.isna().sum()"
   ]
  },
  {
   "cell_type": "code",
   "execution_count": 158,
   "metadata": {},
   "outputs": [
    {
     "data": {
      "text/plain": [
       "CORP       29290\n",
       "INCO       25909\n",
       "PRIVATE    24900\n",
       "LLC         4563\n",
       "LIMITED     1233\n",
       "Name: BUSINESS TYPE, dtype: int64"
      ]
     },
     "execution_count": 158,
     "metadata": {},
     "output_type": "execute_result"
    }
   ],
   "source": [
    "training_data['BUSINESS TYPE'].value_counts()"
   ]
  },
  {
   "cell_type": "code",
   "execution_count": 160,
   "metadata": {},
   "outputs": [],
   "source": [
    "training_data = training_data.drop(['LEGAL NAME','DOING BUSINESS AS NAME'],axis=1)\n"
   ]
  },
  {
   "cell_type": "code",
   "execution_count": 161,
   "metadata": {},
   "outputs": [],
   "source": [
    "testing_data = testing_data.drop(['LEGAL NAME','DOING BUSINESS AS NAME'],axis = 1)"
   ]
  },
  {
   "cell_type": "code",
   "execution_count": 162,
   "metadata": {},
   "outputs": [
    {
     "data": {
      "text/plain": [
       "(57239, 22)"
      ]
     },
     "execution_count": 162,
     "metadata": {},
     "output_type": "execute_result"
    }
   ],
   "source": [
    "testing_data.shape"
   ]
  },
  {
   "cell_type": "code",
   "execution_count": 163,
   "metadata": {},
   "outputs": [
    {
     "data": {
      "text/plain": [
       "(85895, 23)"
      ]
     },
     "execution_count": 163,
     "metadata": {},
     "output_type": "execute_result"
    }
   ],
   "source": [
    "training_data.shape"
   ]
  },
  {
   "cell_type": "code",
   "execution_count": 164,
   "metadata": {},
   "outputs": [
    {
     "data": {
      "text/plain": [
       "CITY                                       object\n",
       "STATE                                      object\n",
       "ZIP CODE                                   object\n",
       "WARD                                      float64\n",
       "PRECINCT                                  float64\n",
       "WARD PRECINCT                              object\n",
       "POLICE DISTRICT                           float64\n",
       "LICENSE CODE                                int64\n",
       "LICENSE DESCRIPTION                        object\n",
       "LICENSE NUMBER                            float64\n",
       "APPLICATION TYPE                           object\n",
       "CONDITIONAL APPROVAL                       object\n",
       "LATITUDE                                  float64\n",
       "LONGITUDE                                 float64\n",
       "LICENSE STATUS                             object\n",
       "PAYMENT YEAR                              float64\n",
       "PAYMENT MONTH                             float64\n",
       "APPLICATION REQUIREMENTS COMPLETE YEAR    float64\n",
       "LICENSE APPROVAL YEAR                     float64\n",
       "DATE ISSUED YEAR                            int64\n",
       "LICENSE STATUS CHANGE YEAR                float64\n",
       "LICENSE TENURE                            float64\n",
       "BUSINESS TYPE                              object\n",
       "dtype: object"
      ]
     },
     "execution_count": 164,
     "metadata": {},
     "output_type": "execute_result"
    }
   ],
   "source": [
    "training_data.dtypes"
   ]
  },
  {
   "cell_type": "code",
   "execution_count": 165,
   "metadata": {},
   "outputs": [],
   "source": [
    "training_data['LICENSE DESCRIPTION'] = training_data['LICENSE DESCRIPTION'].replace('Motor Vehicle Repair : Engine Only (Class II)', 'Bike Repair')\n",
    "training_data['LICENSE DESCRIPTION'] = training_data['LICENSE DESCRIPTION'].replace('Motor Vehicle Repair: Engine/Body(Class III)', 'Bike Repair')\n",
    "training_data['LICENSE DESCRIPTION'] = training_data['LICENSE DESCRIPTION'].replace('Motor Vehicle Repair; Specialty(Class I)', 'Bike Repair')\n",
    "training_data['LICENSE DESCRIPTION'] = training_data['LICENSE DESCRIPTION'].replace('Day Care Center Under 2 Years', 'Day Care Center')\n",
    "training_data['LICENSE DESCRIPTION'] = training_data['LICENSE DESCRIPTION'].replace('Day Care Center 2 - 6 Years', 'Day Care Center')\n",
    "training_data['LICENSE DESCRIPTION'] = training_data['LICENSE DESCRIPTION'].replace('Day Care Center Under 2 and 2 - 6 Years', 'Day Care Center')\n",
    "training_data['LICENSE DESCRIPTION'] = training_data['LICENSE DESCRIPTION'].replace('Peddler, non-food', 'Peddler')\n",
    "training_data['LICENSE DESCRIPTION'] = training_data['LICENSE DESCRIPTION'].replace('Peddler, non-food, special', 'Peddler')\n",
    "training_data['LICENSE DESCRIPTION'] = training_data['LICENSE DESCRIPTION'].replace('Peddler, food (fruits and vegtables only)', 'Peddler')\n",
    "training_data['LICENSE DESCRIPTION'] = training_data['LICENSE DESCRIPTION'].replace('Peddler,food - (fruits and vegetables only) - special', 'Peddler')\n",
    "training_data['LICENSE DESCRIPTION'] = training_data['LICENSE DESCRIPTION'].replace('Tire Facilty Class I (100 - 1,000 Tires)', 'Tire Facilty')\n",
    "training_data['LICENSE DESCRIPTION'] = training_data['LICENSE DESCRIPTION'].replace('Tire Facility Class II (1,001 - 5,000 Tires)', 'Tire Facilty')\n",
    "training_data['LICENSE DESCRIPTION'] = training_data['LICENSE DESCRIPTION'].replace('Tire Facility Class III (5,001 - More Tires)', 'Tire Facilty')\n",
    "training_data['LICENSE DESCRIPTION'] = training_data['LICENSE DESCRIPTION'].replace('Repossessor Class A', 'Repossessor')\n",
    "training_data['LICENSE DESCRIPTION'] = training_data['LICENSE DESCRIPTION'].replace('Repossessor Class B', 'Repossessor')\n",
    "training_data['LICENSE DESCRIPTION'] = training_data['LICENSE DESCRIPTION'].replace('Repossessor Class B Employee', 'Repossessor')\n",
    "training_data['LICENSE DESCRIPTION'] = training_data['LICENSE DESCRIPTION'].replace('Expediter - Class B', 'Expediter')\n",
    "training_data['LICENSE DESCRIPTION'] = training_data['LICENSE DESCRIPTION'].replace('Expediter - Class A', 'Expediter')\n",
    "training_data['LICENSE DESCRIPTION'] = training_data['LICENSE DESCRIPTION'].replace('Expediter - Class B Employee', 'Expediter')\n",
    "training_data['LICENSE DESCRIPTION'] = training_data['LICENSE DESCRIPTION'].replace('Itinerant Merchant, Class II', 'Itinerant Merchant')\n",
    "training_data['LICENSE DESCRIPTION'] = training_data['LICENSE DESCRIPTION'].replace('Itinerant Merchant, Class I', 'Itinerant Merchant')"
   ]
  },
  {
   "cell_type": "code",
   "execution_count": 166,
   "metadata": {},
   "outputs": [],
   "source": [
    "testing_data['LICENSE DESCRIPTION'] = testing_data['LICENSE DESCRIPTION'].replace('Motor Vehicle Repair : Engine Only (Class II)', 'Bike Repair')\n",
    "testing_data['LICENSE DESCRIPTION'] = testing_data['LICENSE DESCRIPTION'].replace('Motor Vehicle Repair: Engine/Body(Class III)', 'Bike Repair')\n",
    "testing_data['LICENSE DESCRIPTION'] = testing_data['LICENSE DESCRIPTION'].replace('Motor Vehicle Repair; Specialty(Class I)', 'Bike Repair')\n",
    "testing_data['LICENSE DESCRIPTION'] = testing_data['LICENSE DESCRIPTION'].replace('Day Care Center Under 2 Years', 'Day Care Center')\n",
    "testing_data['LICENSE DESCRIPTION'] = testing_data['LICENSE DESCRIPTION'].replace('Day Care Center 2 - 6 Years', 'Day Care Center')\n",
    "testing_data['LICENSE DESCRIPTION'] = testing_data['LICENSE DESCRIPTION'].replace('Day Care Center Under 2 and 2 - 6 Years', 'Day Care Center')\n",
    "testing_data['LICENSE DESCRIPTION'] = testing_data['LICENSE DESCRIPTION'].replace('Peddler, non-food', 'Peddler')\n",
    "testing_data['LICENSE DESCRIPTION'] = testing_data['LICENSE DESCRIPTION'].replace('Peddler, non-food, special', 'Peddler')\n",
    "testing_data['LICENSE DESCRIPTION'] = testing_data['LICENSE DESCRIPTION'].replace('Peddler, food (fruits and vegtables only)', 'Peddler')\n",
    "testing_data['LICENSE DESCRIPTION'] = testing_data['LICENSE DESCRIPTION'].replace('Peddler,food - (fruits and vegetables only) - special', 'Peddler')\n",
    "testing_data['LICENSE DESCRIPTION'] = testing_data['LICENSE DESCRIPTION'].replace('Tire Facilty Class I (100 - 1,000 Tires)', 'Tire Facilty')\n",
    "testing_data['LICENSE DESCRIPTION'] = testing_data['LICENSE DESCRIPTION'].replace('Tire Facility Class II (1,001 - 5,000 Tires)', 'Tire Facilty')\n",
    "testing_data['LICENSE DESCRIPTION'] = testing_data['LICENSE DESCRIPTION'].replace('Tire Facility Class III (5,001 - More Tires)', 'Tire Facilty')\n",
    "testing_data['LICENSE DESCRIPTION'] = testing_data['LICENSE DESCRIPTION'].replace('Repossessor Class A', 'Repossessor')\n",
    "testing_data['LICENSE DESCRIPTION'] = testing_data['LICENSE DESCRIPTION'].replace('Repossessor Class B', 'Repossessor')\n",
    "testing_data['LICENSE DESCRIPTION'] = testing_data['LICENSE DESCRIPTION'].replace('Repossessor Class B Employee', 'Repossessor')\n",
    "testing_data['LICENSE DESCRIPTION'] = testing_data['LICENSE DESCRIPTION'].replace('Expediter - Class B', 'Expediter')\n",
    "testing_data['LICENSE DESCRIPTION'] = testing_data['LICENSE DESCRIPTION'].replace('Expediter - Class A', 'Expediter')\n",
    "testing_data['LICENSE DESCRIPTION'] = testing_data['LICENSE DESCRIPTION'].replace('Expediter - Class B Employee', 'Expediter')\n",
    "testing_data['LICENSE DESCRIPTION'] = testing_data['LICENSE DESCRIPTION'].replace('Itinerant Merchant, Class II', 'Itinerant Merchant')\n",
    "testing_data['LICENSE DESCRIPTION'] = testing_data['LICENSE DESCRIPTION'].replace('Itinerant Merchant, Class I', 'Itinerant Merchant')"
   ]
  },
  {
   "cell_type": "code",
   "execution_count": 167,
   "metadata": {},
   "outputs": [],
   "source": [
    "target_enc={'AAI':0,'AAC':1,'REV':2,'REA':3,'INQ':4}"
   ]
  },
  {
   "cell_type": "code",
   "execution_count": 169,
   "metadata": {},
   "outputs": [],
   "source": [
    "training_data['LICENSE STATUS']=training_data['LICENSE STATUS'].map(target_enc)"
   ]
  },
  {
   "cell_type": "code",
   "execution_count": 170,
   "metadata": {},
   "outputs": [
    {
     "data": {
      "text/plain": [
       "0    55400\n",
       "1    30200\n",
       "2      290\n",
       "3        3\n",
       "4        2\n",
       "Name: LICENSE STATUS, dtype: int64"
      ]
     },
     "execution_count": 170,
     "metadata": {},
     "output_type": "execute_result"
    }
   ],
   "source": [
    "training_data['LICENSE STATUS'].value_counts()"
   ]
  },
  {
   "cell_type": "code",
   "execution_count": 176,
   "metadata": {},
   "outputs": [],
   "source": [
    "def label_enc(data):\n",
    "    for i in data.columns:\n",
    "        if data[i].dtypes=='object':\n",
    "            print(i)\n",
    "            mask=~data[i].isnull()\n",
    "            label_enc=LabelEncoder()\n",
    "            try:\n",
    "                data[i][mask]=label_enc.fit_transform(data[i][mask])\n",
    "                data[i]=data[i].astype(int)\n",
    "            except Exception as e:\n",
    "                print(\"Exception occured\", e)\n",
    "    return data"
   ]
  },
  {
   "cell_type": "code",
   "execution_count": 177,
   "metadata": {},
   "outputs": [
    {
     "name": "stdout",
     "output_type": "stream",
     "text": [
      "ZIP CODE\n",
      "Exception occured argument must be a string or number\n",
      "WARD PRECINCT\n",
      "Exception occured argument must be a string or number\n"
     ]
    }
   ],
   "source": [
    "training_data = label_enc(training_data)"
   ]
  },
  {
   "cell_type": "code",
   "execution_count": 178,
   "metadata": {},
   "outputs": [
    {
     "data": {
      "text/html": [
       "<div>\n",
       "<style scoped>\n",
       "    .dataframe tbody tr th:only-of-type {\n",
       "        vertical-align: middle;\n",
       "    }\n",
       "\n",
       "    .dataframe tbody tr th {\n",
       "        vertical-align: top;\n",
       "    }\n",
       "\n",
       "    .dataframe thead th {\n",
       "        text-align: right;\n",
       "    }\n",
       "</style>\n",
       "<table border=\"1\" class=\"dataframe\">\n",
       "  <thead>\n",
       "    <tr style=\"text-align: right;\">\n",
       "      <th></th>\n",
       "      <th>CITY</th>\n",
       "      <th>STATE</th>\n",
       "      <th>ZIP CODE</th>\n",
       "      <th>WARD</th>\n",
       "      <th>PRECINCT</th>\n",
       "      <th>WARD PRECINCT</th>\n",
       "      <th>POLICE DISTRICT</th>\n",
       "      <th>LICENSE CODE</th>\n",
       "      <th>LICENSE DESCRIPTION</th>\n",
       "      <th>LICENSE NUMBER</th>\n",
       "      <th>...</th>\n",
       "      <th>LONGITUDE</th>\n",
       "      <th>LICENSE STATUS</th>\n",
       "      <th>PAYMENT YEAR</th>\n",
       "      <th>PAYMENT MONTH</th>\n",
       "      <th>APPLICATION REQUIREMENTS COMPLETE YEAR</th>\n",
       "      <th>LICENSE APPROVAL YEAR</th>\n",
       "      <th>DATE ISSUED YEAR</th>\n",
       "      <th>LICENSE STATUS CHANGE YEAR</th>\n",
       "      <th>LICENSE TENURE</th>\n",
       "      <th>BUSINESS TYPE</th>\n",
       "    </tr>\n",
       "  </thead>\n",
       "  <tbody>\n",
       "    <tr>\n",
       "      <td>0</td>\n",
       "      <td>193</td>\n",
       "      <td>16</td>\n",
       "      <td>60623.0</td>\n",
       "      <td>22.0</td>\n",
       "      <td>28.0</td>\n",
       "      <td>22-28</td>\n",
       "      <td>10.0</td>\n",
       "      <td>1010</td>\n",
       "      <td>42</td>\n",
       "      <td>35342.0</td>\n",
       "      <td>...</td>\n",
       "      <td>-87.714618</td>\n",
       "      <td>0</td>\n",
       "      <td>2002.0</td>\n",
       "      <td>8.0</td>\n",
       "      <td>2002.0</td>\n",
       "      <td>2002.0</td>\n",
       "      <td>2006</td>\n",
       "      <td>2009.0</td>\n",
       "      <td>1.0</td>\n",
       "      <td>4</td>\n",
       "    </tr>\n",
       "    <tr>\n",
       "      <td>1</td>\n",
       "      <td>193</td>\n",
       "      <td>16</td>\n",
       "      <td>60618</td>\n",
       "      <td>33.0</td>\n",
       "      <td>23.0</td>\n",
       "      <td>33-23</td>\n",
       "      <td>17.0</td>\n",
       "      <td>1315</td>\n",
       "      <td>47</td>\n",
       "      <td>1358463.0</td>\n",
       "      <td>...</td>\n",
       "      <td>-87.699626</td>\n",
       "      <td>1</td>\n",
       "      <td>2005.0</td>\n",
       "      <td>11.0</td>\n",
       "      <td>2005.0</td>\n",
       "      <td>2006.0</td>\n",
       "      <td>2006</td>\n",
       "      <td>2006.0</td>\n",
       "      <td>1.0</td>\n",
       "      <td>1</td>\n",
       "    </tr>\n",
       "    <tr>\n",
       "      <td>2</td>\n",
       "      <td>466</td>\n",
       "      <td>16</td>\n",
       "      <td>60035</td>\n",
       "      <td>0.0</td>\n",
       "      <td>0.0</td>\n",
       "      <td>0</td>\n",
       "      <td>0.0</td>\n",
       "      <td>1011</td>\n",
       "      <td>31</td>\n",
       "      <td>1980233.0</td>\n",
       "      <td>...</td>\n",
       "      <td>-87.681165</td>\n",
       "      <td>0</td>\n",
       "      <td>2009.0</td>\n",
       "      <td>7.0</td>\n",
       "      <td>2009.0</td>\n",
       "      <td>2009.0</td>\n",
       "      <td>2009</td>\n",
       "      <td>2009.0</td>\n",
       "      <td>2.0</td>\n",
       "      <td>1</td>\n",
       "    </tr>\n",
       "    <tr>\n",
       "      <td>3</td>\n",
       "      <td>585</td>\n",
       "      <td>16</td>\n",
       "      <td>60439</td>\n",
       "      <td>0.0</td>\n",
       "      <td>0.0</td>\n",
       "      <td>0</td>\n",
       "      <td>0.0</td>\n",
       "      <td>1010</td>\n",
       "      <td>42</td>\n",
       "      <td>1476582.0</td>\n",
       "      <td>...</td>\n",
       "      <td>-87.681165</td>\n",
       "      <td>0</td>\n",
       "      <td>2004.0</td>\n",
       "      <td>2.0</td>\n",
       "      <td>2004.0</td>\n",
       "      <td>2004.0</td>\n",
       "      <td>2004</td>\n",
       "      <td>2009.0</td>\n",
       "      <td>1.0</td>\n",
       "      <td>0</td>\n",
       "    </tr>\n",
       "    <tr>\n",
       "      <td>4</td>\n",
       "      <td>1145</td>\n",
       "      <td>16</td>\n",
       "      <td>60087</td>\n",
       "      <td>0.0</td>\n",
       "      <td>0.0</td>\n",
       "      <td>0</td>\n",
       "      <td>0.0</td>\n",
       "      <td>1010</td>\n",
       "      <td>42</td>\n",
       "      <td>1141408.0</td>\n",
       "      <td>...</td>\n",
       "      <td>-87.681165</td>\n",
       "      <td>0</td>\n",
       "      <td>2008.0</td>\n",
       "      <td>6.0</td>\n",
       "      <td>2008.0</td>\n",
       "      <td>2008.0</td>\n",
       "      <td>2008</td>\n",
       "      <td>2009.0</td>\n",
       "      <td>2.0</td>\n",
       "      <td>4</td>\n",
       "    </tr>\n",
       "  </tbody>\n",
       "</table>\n",
       "<p>5 rows × 23 columns</p>\n",
       "</div>"
      ],
      "text/plain": [
       "   CITY  STATE ZIP CODE  WARD  PRECINCT WARD PRECINCT  POLICE DISTRICT  \\\n",
       "0   193     16  60623.0  22.0      28.0         22-28             10.0   \n",
       "1   193     16    60618  33.0      23.0         33-23             17.0   \n",
       "2   466     16    60035   0.0       0.0             0              0.0   \n",
       "3   585     16    60439   0.0       0.0             0              0.0   \n",
       "4  1145     16    60087   0.0       0.0             0              0.0   \n",
       "\n",
       "   LICENSE CODE  LICENSE DESCRIPTION  LICENSE NUMBER  ...  LONGITUDE  \\\n",
       "0          1010                   42         35342.0  ... -87.714618   \n",
       "1          1315                   47       1358463.0  ... -87.699626   \n",
       "2          1011                   31       1980233.0  ... -87.681165   \n",
       "3          1010                   42       1476582.0  ... -87.681165   \n",
       "4          1010                   42       1141408.0  ... -87.681165   \n",
       "\n",
       "   LICENSE STATUS  PAYMENT YEAR  PAYMENT MONTH  \\\n",
       "0               0        2002.0            8.0   \n",
       "1               1        2005.0           11.0   \n",
       "2               0        2009.0            7.0   \n",
       "3               0        2004.0            2.0   \n",
       "4               0        2008.0            6.0   \n",
       "\n",
       "   APPLICATION REQUIREMENTS COMPLETE YEAR  LICENSE APPROVAL YEAR  \\\n",
       "0                                  2002.0                 2002.0   \n",
       "1                                  2005.0                 2006.0   \n",
       "2                                  2009.0                 2009.0   \n",
       "3                                  2004.0                 2004.0   \n",
       "4                                  2008.0                 2008.0   \n",
       "\n",
       "   DATE ISSUED YEAR  LICENSE STATUS CHANGE YEAR  LICENSE TENURE  BUSINESS TYPE  \n",
       "0              2006                      2009.0             1.0              4  \n",
       "1              2006                      2006.0             1.0              1  \n",
       "2              2009                      2009.0             2.0              1  \n",
       "3              2004                      2009.0             1.0              0  \n",
       "4              2008                      2009.0             2.0              4  \n",
       "\n",
       "[5 rows x 23 columns]"
      ]
     },
     "execution_count": 178,
     "metadata": {},
     "output_type": "execute_result"
    }
   ],
   "source": [
    "training_data.head()"
   ]
  },
  {
   "cell_type": "code",
   "execution_count": 179,
   "metadata": {},
   "outputs": [
    {
     "data": {
      "text/plain": [
       "CITY                                       object\n",
       "STATE                                      object\n",
       "ZIP CODE                                   object\n",
       "WARD                                      float64\n",
       "PRECINCT                                  float64\n",
       "WARD PRECINCT                              object\n",
       "POLICE DISTRICT                           float64\n",
       "LICENSE CODE                                int64\n",
       "LICENSE DESCRIPTION                        object\n",
       "LICENSE NUMBER                            float64\n",
       "APPLICATION TYPE                           object\n",
       "CONDITIONAL APPROVAL                       object\n",
       "LATITUDE                                  float64\n",
       "LONGITUDE                                 float64\n",
       "PAYMENT YEAR                              float64\n",
       "PAYMENT MONTH                             float64\n",
       "APPLICATION REQUIREMENTS COMPLETE YEAR    float64\n",
       "LICENSE APPROVAL YEAR                     float64\n",
       "DATE ISSUED YEAR                            int64\n",
       "LICENSE STATUS CHANGE YEAR                float64\n",
       "LICENSE TENURE                            float64\n",
       "BUSINESS TYPE                              object\n",
       "dtype: object"
      ]
     },
     "execution_count": 179,
     "metadata": {},
     "output_type": "execute_result"
    }
   ],
   "source": [
    "testing_data.dtypes"
   ]
  },
  {
   "cell_type": "code",
   "execution_count": 180,
   "metadata": {},
   "outputs": [
    {
     "data": {
      "text/html": [
       "<div>\n",
       "<style scoped>\n",
       "    .dataframe tbody tr th:only-of-type {\n",
       "        vertical-align: middle;\n",
       "    }\n",
       "\n",
       "    .dataframe tbody tr th {\n",
       "        vertical-align: top;\n",
       "    }\n",
       "\n",
       "    .dataframe thead th {\n",
       "        text-align: right;\n",
       "    }\n",
       "</style>\n",
       "<table border=\"1\" class=\"dataframe\">\n",
       "  <thead>\n",
       "    <tr style=\"text-align: right;\">\n",
       "      <th></th>\n",
       "      <th>CITY</th>\n",
       "      <th>STATE</th>\n",
       "      <th>ZIP CODE</th>\n",
       "      <th>WARD</th>\n",
       "      <th>PRECINCT</th>\n",
       "      <th>WARD PRECINCT</th>\n",
       "      <th>POLICE DISTRICT</th>\n",
       "      <th>LICENSE CODE</th>\n",
       "      <th>LICENSE DESCRIPTION</th>\n",
       "      <th>LICENSE NUMBER</th>\n",
       "      <th>...</th>\n",
       "      <th>LATITUDE</th>\n",
       "      <th>LONGITUDE</th>\n",
       "      <th>PAYMENT YEAR</th>\n",
       "      <th>PAYMENT MONTH</th>\n",
       "      <th>APPLICATION REQUIREMENTS COMPLETE YEAR</th>\n",
       "      <th>LICENSE APPROVAL YEAR</th>\n",
       "      <th>DATE ISSUED YEAR</th>\n",
       "      <th>LICENSE STATUS CHANGE YEAR</th>\n",
       "      <th>LICENSE TENURE</th>\n",
       "      <th>BUSINESS TYPE</th>\n",
       "    </tr>\n",
       "  </thead>\n",
       "  <tbody>\n",
       "    <tr>\n",
       "      <td>0</td>\n",
       "      <td>CHICAGO</td>\n",
       "      <td>IL</td>\n",
       "      <td>60610</td>\n",
       "      <td>42.0</td>\n",
       "      <td>67.0</td>\n",
       "      <td>42-67</td>\n",
       "      <td>18.0</td>\n",
       "      <td>1020</td>\n",
       "      <td>Residential Real Estate Developer</td>\n",
       "      <td>1516615.0</td>\n",
       "      <td>...</td>\n",
       "      <td>41.890047</td>\n",
       "      <td>-87.637467</td>\n",
       "      <td>2012.0</td>\n",
       "      <td>1.0</td>\n",
       "      <td>2011.0</td>\n",
       "      <td>2012.0</td>\n",
       "      <td>2012</td>\n",
       "      <td>2012.0</td>\n",
       "      <td>2.0</td>\n",
       "      <td>LLC</td>\n",
       "    </tr>\n",
       "    <tr>\n",
       "      <td>1</td>\n",
       "      <td>CHICAGO</td>\n",
       "      <td>IL</td>\n",
       "      <td>60636</td>\n",
       "      <td>16.0</td>\n",
       "      <td>5.0</td>\n",
       "      <td>16-5</td>\n",
       "      <td>7.0</td>\n",
       "      <td>1010</td>\n",
       "      <td>Limited Business License</td>\n",
       "      <td>69813.0</td>\n",
       "      <td>...</td>\n",
       "      <td>41.786485</td>\n",
       "      <td>-87.676665</td>\n",
       "      <td>2012.0</td>\n",
       "      <td>11.0</td>\n",
       "      <td>2011.0</td>\n",
       "      <td>2012.0</td>\n",
       "      <td>2012</td>\n",
       "      <td>2012.0</td>\n",
       "      <td>2.0</td>\n",
       "      <td>INCO</td>\n",
       "    </tr>\n",
       "    <tr>\n",
       "      <td>2</td>\n",
       "      <td>CHICAGO</td>\n",
       "      <td>IL</td>\n",
       "      <td>60605</td>\n",
       "      <td>4.0</td>\n",
       "      <td>8.0</td>\n",
       "      <td>4-8</td>\n",
       "      <td>1.0</td>\n",
       "      <td>1020</td>\n",
       "      <td>Residential Real Estate Developer</td>\n",
       "      <td>1519227.0</td>\n",
       "      <td>...</td>\n",
       "      <td>41.868269</td>\n",
       "      <td>-87.625695</td>\n",
       "      <td>2004.0</td>\n",
       "      <td>12.0</td>\n",
       "      <td>2004.0</td>\n",
       "      <td>2004.0</td>\n",
       "      <td>2004</td>\n",
       "      <td>2011.0</td>\n",
       "      <td>1.0</td>\n",
       "      <td>CORP</td>\n",
       "    </tr>\n",
       "    <tr>\n",
       "      <td>3</td>\n",
       "      <td>CHICAGO</td>\n",
       "      <td>IL</td>\n",
       "      <td>60827</td>\n",
       "      <td>9.0</td>\n",
       "      <td>33.0</td>\n",
       "      <td>9-33</td>\n",
       "      <td>5.0</td>\n",
       "      <td>1607</td>\n",
       "      <td>Peddler</td>\n",
       "      <td>1922025.0</td>\n",
       "      <td>...</td>\n",
       "      <td>41.655762</td>\n",
       "      <td>-87.608686</td>\n",
       "      <td>2010.0</td>\n",
       "      <td>11.0</td>\n",
       "      <td>2010.0</td>\n",
       "      <td>2008.0</td>\n",
       "      <td>2010</td>\n",
       "      <td>2012.0</td>\n",
       "      <td>2.0</td>\n",
       "      <td>PRIVATE</td>\n",
       "    </tr>\n",
       "    <tr>\n",
       "      <td>4</td>\n",
       "      <td>CHICAGO</td>\n",
       "      <td>IL</td>\n",
       "      <td>60632</td>\n",
       "      <td>15.0</td>\n",
       "      <td>26.0</td>\n",
       "      <td>15-26</td>\n",
       "      <td>9.0</td>\n",
       "      <td>1010</td>\n",
       "      <td>Limited Business License</td>\n",
       "      <td>1675683.0</td>\n",
       "      <td>...</td>\n",
       "      <td>41.816969</td>\n",
       "      <td>-87.699785</td>\n",
       "      <td>2007.0</td>\n",
       "      <td>8.0</td>\n",
       "      <td>2007.0</td>\n",
       "      <td>2007.0</td>\n",
       "      <td>2007</td>\n",
       "      <td>2008.0</td>\n",
       "      <td>2.0</td>\n",
       "      <td>CORP</td>\n",
       "    </tr>\n",
       "  </tbody>\n",
       "</table>\n",
       "<p>5 rows × 22 columns</p>\n",
       "</div>"
      ],
      "text/plain": [
       "      CITY STATE ZIP CODE  WARD  PRECINCT WARD PRECINCT  POLICE DISTRICT  \\\n",
       "0  CHICAGO    IL    60610  42.0      67.0         42-67             18.0   \n",
       "1  CHICAGO    IL    60636  16.0       5.0          16-5              7.0   \n",
       "2  CHICAGO    IL    60605   4.0       8.0           4-8              1.0   \n",
       "3  CHICAGO    IL    60827   9.0      33.0          9-33              5.0   \n",
       "4  CHICAGO    IL    60632  15.0      26.0         15-26              9.0   \n",
       "\n",
       "   LICENSE CODE                LICENSE DESCRIPTION  LICENSE NUMBER  ...  \\\n",
       "0          1020  Residential Real Estate Developer       1516615.0  ...   \n",
       "1          1010           Limited Business License         69813.0  ...   \n",
       "2          1020  Residential Real Estate Developer       1519227.0  ...   \n",
       "3          1607                            Peddler       1922025.0  ...   \n",
       "4          1010           Limited Business License       1675683.0  ...   \n",
       "\n",
       "    LATITUDE  LONGITUDE  PAYMENT YEAR  PAYMENT MONTH  \\\n",
       "0  41.890047 -87.637467        2012.0            1.0   \n",
       "1  41.786485 -87.676665        2012.0           11.0   \n",
       "2  41.868269 -87.625695        2004.0           12.0   \n",
       "3  41.655762 -87.608686        2010.0           11.0   \n",
       "4  41.816969 -87.699785        2007.0            8.0   \n",
       "\n",
       "   APPLICATION REQUIREMENTS COMPLETE YEAR  LICENSE APPROVAL YEAR  \\\n",
       "0                                  2011.0                 2012.0   \n",
       "1                                  2011.0                 2012.0   \n",
       "2                                  2004.0                 2004.0   \n",
       "3                                  2010.0                 2008.0   \n",
       "4                                  2007.0                 2007.0   \n",
       "\n",
       "   DATE ISSUED YEAR  LICENSE STATUS CHANGE YEAR  LICENSE TENURE  BUSINESS TYPE  \n",
       "0              2012                      2012.0             2.0            LLC  \n",
       "1              2012                      2012.0             2.0           INCO  \n",
       "2              2004                      2011.0             1.0           CORP  \n",
       "3              2010                      2012.0             2.0        PRIVATE  \n",
       "4              2007                      2008.0             2.0           CORP  \n",
       "\n",
       "[5 rows x 22 columns]"
      ]
     },
     "execution_count": 180,
     "metadata": {},
     "output_type": "execute_result"
    }
   ],
   "source": [
    "testing_data.head()"
   ]
  },
  {
   "cell_type": "code",
   "execution_count": 181,
   "metadata": {},
   "outputs": [],
   "source": [
    "labelEnc = LabelEncoder()\n",
    "training_data['ZIP CODE'] = labelEnc.fit_transform(training_data['ZIP CODE'].astype(str))\n",
    "testing_data['ZIP CODE'] = labelEnc.fit_transform(testing_data['ZIP CODE'].astype(str))\n",
    "training_data['WARD PRECINCT'] = labelEnc.fit_transform(training_data['WARD PRECINCT'].astype(str))\n",
    "testing_data['WARD PRECINCT'] = labelEnc.fit_transform(testing_data['WARD PRECINCT'].astype(str))"
   ]
  },
  {
   "cell_type": "code",
   "execution_count": 293,
   "metadata": {},
   "outputs": [
    {
     "data": {
      "text/plain": [
       "0    55400\n",
       "1    30200\n",
       "2      290\n",
       "3        3\n",
       "4        2\n",
       "Name: LICENSE STATUS, dtype: int64"
      ]
     },
     "execution_count": 293,
     "metadata": {},
     "output_type": "execute_result"
    }
   ],
   "source": [
    "training_data['LICENSE STATUS'].value_counts()"
   ]
  },
  {
   "cell_type": "code",
   "execution_count": 183,
   "metadata": {},
   "outputs": [
    {
     "data": {
      "text/plain": [
       "CITY                                       object\n",
       "STATE                                      object\n",
       "ZIP CODE                                    int64\n",
       "WARD                                      float64\n",
       "PRECINCT                                  float64\n",
       "WARD PRECINCT                               int64\n",
       "POLICE DISTRICT                           float64\n",
       "LICENSE CODE                                int64\n",
       "LICENSE DESCRIPTION                        object\n",
       "LICENSE NUMBER                            float64\n",
       "APPLICATION TYPE                           object\n",
       "CONDITIONAL APPROVAL                       object\n",
       "LATITUDE                                  float64\n",
       "LONGITUDE                                 float64\n",
       "PAYMENT YEAR                              float64\n",
       "PAYMENT MONTH                             float64\n",
       "APPLICATION REQUIREMENTS COMPLETE YEAR    float64\n",
       "LICENSE APPROVAL YEAR                     float64\n",
       "DATE ISSUED YEAR                            int64\n",
       "LICENSE STATUS CHANGE YEAR                float64\n",
       "LICENSE TENURE                            float64\n",
       "BUSINESS TYPE                              object\n",
       "dtype: object"
      ]
     },
     "execution_count": 183,
     "metadata": {},
     "output_type": "execute_result"
    }
   ],
   "source": [
    "testing_data.dtypes"
   ]
  },
  {
   "cell_type": "code",
   "execution_count": 184,
   "metadata": {},
   "outputs": [
    {
     "name": "stdout",
     "output_type": "stream",
     "text": [
      "CITY\n",
      "STATE\n",
      "LICENSE DESCRIPTION\n",
      "APPLICATION TYPE\n",
      "CONDITIONAL APPROVAL\n",
      "BUSINESS TYPE\n"
     ]
    },
    {
     "name": "stderr",
     "output_type": "stream",
     "text": [
      "/opt/anaconda3/lib/python3.7/site-packages/ipykernel_launcher.py:8: SettingWithCopyWarning: \n",
      "A value is trying to be set on a copy of a slice from a DataFrame\n",
      "\n",
      "See the caveats in the documentation: http://pandas.pydata.org/pandas-docs/stable/user_guide/indexing.html#returning-a-view-versus-a-copy\n",
      "  \n"
     ]
    }
   ],
   "source": [
    "testing_data = label_enc(testing_data)"
   ]
  },
  {
   "cell_type": "code",
   "execution_count": 186,
   "metadata": {},
   "outputs": [
    {
     "data": {
      "text/plain": [
       "CITY                                        int64\n",
       "STATE                                       int64\n",
       "ZIP CODE                                    int64\n",
       "WARD                                      float64\n",
       "PRECINCT                                  float64\n",
       "WARD PRECINCT                               int64\n",
       "POLICE DISTRICT                           float64\n",
       "LICENSE CODE                                int64\n",
       "LICENSE DESCRIPTION                         int64\n",
       "LICENSE NUMBER                            float64\n",
       "APPLICATION TYPE                            int64\n",
       "CONDITIONAL APPROVAL                        int64\n",
       "LATITUDE                                  float64\n",
       "LONGITUDE                                 float64\n",
       "PAYMENT YEAR                              float64\n",
       "PAYMENT MONTH                             float64\n",
       "APPLICATION REQUIREMENTS COMPLETE YEAR    float64\n",
       "LICENSE APPROVAL YEAR                     float64\n",
       "DATE ISSUED YEAR                            int64\n",
       "LICENSE STATUS CHANGE YEAR                float64\n",
       "LICENSE TENURE                            float64\n",
       "BUSINESS TYPE                               int64\n",
       "dtype: object"
      ]
     },
     "execution_count": 186,
     "metadata": {},
     "output_type": "execute_result"
    }
   ],
   "source": [
    "testing_data.dtypes"
   ]
  },
  {
   "cell_type": "code",
   "execution_count": 187,
   "metadata": {},
   "outputs": [],
   "source": [
    "X = training_data.drop('LICENSE STATUS',axis=1)\n",
    "y = training_data['LICENSE STATUS']"
   ]
  },
  {
   "cell_type": "code",
   "execution_count": 189,
   "metadata": {},
   "outputs": [
    {
     "data": {
      "text/plain": [
       "<bound method NDFrame.tail of 0        0\n",
       "1        1\n",
       "2        0\n",
       "3        0\n",
       "4        0\n",
       "        ..\n",
       "85890    1\n",
       "85891    0\n",
       "85892    0\n",
       "85893    1\n",
       "85894    1\n",
       "Name: LICENSE STATUS, Length: 85895, dtype: int64>"
      ]
     },
     "execution_count": 189,
     "metadata": {},
     "output_type": "execute_result"
    }
   ],
   "source": [
    "y.tail"
   ]
  },
  {
   "cell_type": "code",
   "execution_count": 195,
   "metadata": {},
   "outputs": [],
   "source": [
    "X_train,X_test,y_train,y_test = train_test_split(X,y,test_size=0.2,random_state=420)"
   ]
  },
  {
   "cell_type": "code",
   "execution_count": 196,
   "metadata": {},
   "outputs": [],
   "source": [
    "from sklearn.naive_bayes import GaussianNB"
   ]
  },
  {
   "cell_type": "code",
   "execution_count": 197,
   "metadata": {},
   "outputs": [],
   "source": [
    "gb = GaussianNB()"
   ]
  },
  {
   "cell_type": "code",
   "execution_count": 198,
   "metadata": {},
   "outputs": [
    {
     "data": {
      "text/plain": [
       "GaussianNB(priors=None, var_smoothing=1e-09)"
      ]
     },
     "execution_count": 198,
     "metadata": {},
     "output_type": "execute_result"
    }
   ],
   "source": [
    "gb.fit(X_train,y_train)"
   ]
  },
  {
   "cell_type": "code",
   "execution_count": 200,
   "metadata": {},
   "outputs": [],
   "source": [
    "predictions = gb.predict(X_test)"
   ]
  },
  {
   "cell_type": "code",
   "execution_count": 204,
   "metadata": {},
   "outputs": [
    {
     "name": "stdout",
     "output_type": "stream",
     "text": [
      "81.79172245183072\n"
     ]
    }
   ],
   "source": [
    "print(accuracy_score(y_test,predictions)*100)"
   ]
  },
  {
   "cell_type": "code",
   "execution_count": 215,
   "metadata": {},
   "outputs": [
    {
     "name": "stdout",
     "output_type": "stream",
     "text": [
      "[[5068 1979]\n",
      " [ 854 8981]]\n"
     ]
    }
   ],
   "source": [
    "conf_mat = confusion_matrix(y_test,predictions,[1,0]).T\n",
    "print(conf_mat)"
   ]
  },
  {
   "cell_type": "code",
   "execution_count": 214,
   "metadata": {},
   "outputs": [
    {
     "data": {
      "text/plain": [
       "<matplotlib.axes._subplots.AxesSubplot at 0x1a302ba690>"
      ]
     },
     "execution_count": 214,
     "metadata": {},
     "output_type": "execute_result"
    },
    {
     "data": {
      "image/png": "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\n",
      "text/plain": [
       "<Figure size 432x288 with 2 Axes>"
      ]
     },
     "metadata": {
      "needs_background": "light"
     },
     "output_type": "display_data"
    }
   ],
   "source": [
    "sns.heatmap(conf_mat,annot=True,fmt='.2f')"
   ]
  },
  {
   "cell_type": "code",
   "execution_count": 221,
   "metadata": {},
   "outputs": [],
   "source": [
    "submissions = pd.DataFrame({'ID': test_file.ID})"
   ]
  },
  {
   "cell_type": "code",
   "execution_count": 242,
   "metadata": {},
   "outputs": [
    {
     "data": {
      "text/plain": [
       "(57239,)"
      ]
     },
     "execution_count": 242,
     "metadata": {},
     "output_type": "execute_result"
    }
   ],
   "source": [
    "submissions_test = gb.predict(testing_data)\n",
    "submissions_test.shape"
   ]
  },
  {
   "cell_type": "code",
   "execution_count": 224,
   "metadata": {},
   "outputs": [],
   "source": [
    "submissions['LICENSE STATUS'] = submissions_test"
   ]
  },
  {
   "cell_type": "code",
   "execution_count": 225,
   "metadata": {},
   "outputs": [
    {
     "data": {
      "text/plain": [
       "(57239, 2)"
      ]
     },
     "execution_count": 225,
     "metadata": {},
     "output_type": "execute_result"
    }
   ],
   "source": [
    "submissions.shape"
   ]
  },
  {
   "cell_type": "code",
   "execution_count": 228,
   "metadata": {},
   "outputs": [
    {
     "data": {
      "text/plain": [
       "0    55745\n",
       "1     1494\n",
       "Name: LICENSE STATUS, dtype: int64"
      ]
     },
     "execution_count": 228,
     "metadata": {},
     "output_type": "execute_result"
    }
   ],
   "source": [
    "submissions['LICENSE STATUS'].value_counts()"
   ]
  },
  {
   "cell_type": "code",
   "execution_count": 229,
   "metadata": {},
   "outputs": [],
   "source": [
    "submissions['LICENSE STATUS'] = submissions['LICENSE STATUS'].replace(0, 'AAI')\n",
    "submissions['LICENSE STATUS'] = submissions['LICENSE STATUS'].replace(1, 'AAC')\n",
    "submissions['LICENSE STATUS'] = submissions['LICENSE STATUS'].replace(2, 'REV')\n",
    "submissions['LICENSE STATUS'] = submissions['LICENSE STATUS'].replace(3, 'REA')\n",
    "submissions['LICENSE STATUS'] = submissions['LICENSE STATUS'].replace(4, 'INQ')"
   ]
  },
  {
   "cell_type": "code",
   "execution_count": 231,
   "metadata": {},
   "outputs": [],
   "source": [
    "submissions.to_csv('SamarSubmissions.csv',index=False)"
   ]
  },
  {
   "cell_type": "code",
   "execution_count": 233,
   "metadata": {},
   "outputs": [],
   "source": [
    "from sklearn.ensemble import RandomForestClassifier"
   ]
  },
  {
   "cell_type": "code",
   "execution_count": 281,
   "metadata": {},
   "outputs": [],
   "source": [
    "rf = RandomForestClassifier(n_estimators=100)"
   ]
  },
  {
   "cell_type": "code",
   "execution_count": 282,
   "metadata": {},
   "outputs": [
    {
     "data": {
      "text/plain": [
       "RandomForestClassifier(bootstrap=True, class_weight=None, criterion='gini',\n",
       "                       max_depth=None, max_features='auto', max_leaf_nodes=None,\n",
       "                       min_impurity_decrease=0.0, min_impurity_split=None,\n",
       "                       min_samples_leaf=1, min_samples_split=2,\n",
       "                       min_weight_fraction_leaf=0.0, n_estimators=100,\n",
       "                       n_jobs=None, oob_score=False, random_state=None,\n",
       "                       verbose=0, warm_start=False)"
      ]
     },
     "execution_count": 282,
     "metadata": {},
     "output_type": "execute_result"
    }
   ],
   "source": [
    "rf.fit(X_train,y_train)"
   ]
  },
  {
   "cell_type": "code",
   "execution_count": 283,
   "metadata": {},
   "outputs": [],
   "source": [
    "rf_predictions = rf.predict(X_test)"
   ]
  },
  {
   "cell_type": "code",
   "execution_count": 284,
   "metadata": {},
   "outputs": [
    {
     "name": "stdout",
     "output_type": "stream",
     "text": [
      "0.9893474591070494\n"
     ]
    }
   ],
   "source": [
    "print(accuracy_score(rf_predictions,y_test))"
   ]
  },
  {
   "cell_type": "code",
   "execution_count": 285,
   "metadata": {},
   "outputs": [],
   "source": [
    "rf_submissions = pd.DataFrame({'ID':test_file.ID})"
   ]
  },
  {
   "cell_type": "code",
   "execution_count": 286,
   "metadata": {},
   "outputs": [],
   "source": [
    "rf_test = rf.predict(testing_data)"
   ]
  },
  {
   "cell_type": "code",
   "execution_count": 287,
   "metadata": {},
   "outputs": [
    {
     "data": {
      "text/plain": [
       "(57239,)"
      ]
     },
     "execution_count": 287,
     "metadata": {},
     "output_type": "execute_result"
    }
   ],
   "source": [
    "rf_test.shape"
   ]
  },
  {
   "cell_type": "code",
   "execution_count": 288,
   "metadata": {},
   "outputs": [],
   "source": [
    "rf_submissions['LICENSE STATUS'] = rf_test"
   ]
  },
  {
   "cell_type": "code",
   "execution_count": 289,
   "metadata": {},
   "outputs": [],
   "source": [
    "rf_submissions['LICENSE STATUS'] = rf_submissions['LICENSE STATUS'].replace(0, 'AAI')\n",
    "rf_submissions['LICENSE STATUS'] = rf_submissions['LICENSE STATUS'].replace(1, 'AAC')\n",
    "rf_submissions['LICENSE STATUS'] = rf_submissions['LICENSE STATUS'].replace(2, 'REV')\n",
    "rf_submissions['LICENSE STATUS'] = rf_submissions['LICENSE STATUS'].replace(3, 'REA')\n",
    "rf_submissions['LICENSE STATUS'] = rf_submissions['LICENSE STATUS'].replace(4, 'INQ')"
   ]
  },
  {
   "cell_type": "code",
   "execution_count": 290,
   "metadata": {},
   "outputs": [
    {
     "data": {
      "text/plain": [
       "AAC    51495\n",
       "REV     5508\n",
       "AAI      236\n",
       "Name: LICENSE STATUS, dtype: int64"
      ]
     },
     "execution_count": 290,
     "metadata": {},
     "output_type": "execute_result"
    }
   ],
   "source": [
    "rf_submissions['LICENSE STATUS'].value_counts()"
   ]
  },
  {
   "cell_type": "code",
   "execution_count": 291,
   "metadata": {},
   "outputs": [],
   "source": [
    "rf_submissions.to_csv('RandomForestSubmissions.csv',index=False)"
   ]
  },
  {
   "cell_type": "code",
   "execution_count": 255,
   "metadata": {},
   "outputs": [],
   "source": [
    "from sklearn.ensemble import GradientBoostingClassifier"
   ]
  },
  {
   "cell_type": "code",
   "execution_count": 256,
   "metadata": {},
   "outputs": [],
   "source": [
    "xg_boost = GradientBoostingClassifier()"
   ]
  },
  {
   "cell_type": "code",
   "execution_count": 257,
   "metadata": {},
   "outputs": [
    {
     "data": {
      "text/plain": [
       "GradientBoostingClassifier(criterion='friedman_mse', init=None,\n",
       "                           learning_rate=0.1, loss='deviance', max_depth=3,\n",
       "                           max_features=None, max_leaf_nodes=None,\n",
       "                           min_impurity_decrease=0.0, min_impurity_split=None,\n",
       "                           min_samples_leaf=1, min_samples_split=2,\n",
       "                           min_weight_fraction_leaf=0.0, n_estimators=100,\n",
       "                           n_iter_no_change=None, presort='auto',\n",
       "                           random_state=None, subsample=1.0, tol=0.0001,\n",
       "                           validation_fraction=0.1, verbose=0,\n",
       "                           warm_start=False)"
      ]
     },
     "execution_count": 257,
     "metadata": {},
     "output_type": "execute_result"
    }
   ],
   "source": [
    "xg_boost.fit(X_test,y_test)"
   ]
  },
  {
   "cell_type": "code",
   "execution_count": 258,
   "metadata": {},
   "outputs": [],
   "source": [
    "xg_boost_preds = xg_boost.predict(X_test)"
   ]
  },
  {
   "cell_type": "code",
   "execution_count": 262,
   "metadata": {},
   "outputs": [
    {
     "name": "stdout",
     "output_type": "stream",
     "text": [
      "99.36550439490075\n"
     ]
    }
   ],
   "source": [
    "print(accuracy_score(y_test,xg_boost_preds)*100)"
   ]
  },
  {
   "cell_type": "code",
   "execution_count": 263,
   "metadata": {},
   "outputs": [],
   "source": [
    "xg_boost_test = xg_boost.predict(testing_data)"
   ]
  },
  {
   "cell_type": "code",
   "execution_count": 264,
   "metadata": {},
   "outputs": [
    {
     "data": {
      "text/plain": [
       "array([1, 1, 1, ..., 1, 1, 1])"
      ]
     },
     "execution_count": 264,
     "metadata": {},
     "output_type": "execute_result"
    }
   ],
   "source": [
    "xg_boost_test"
   ]
  },
  {
   "cell_type": "code",
   "execution_count": 265,
   "metadata": {},
   "outputs": [],
   "source": [
    "xg_boost_submissions = pd.DataFrame({'ID':test_file.ID})"
   ]
  },
  {
   "cell_type": "code",
   "execution_count": 266,
   "metadata": {},
   "outputs": [],
   "source": [
    "xg_boost_submissions['LICENSE STATUS'] = xg_boost_test"
   ]
  },
  {
   "cell_type": "code",
   "execution_count": 267,
   "metadata": {},
   "outputs": [
    {
     "data": {
      "text/plain": [
       "(57239, 2)"
      ]
     },
     "execution_count": 267,
     "metadata": {},
     "output_type": "execute_result"
    }
   ],
   "source": [
    "xg_boost_submissions.shape"
   ]
  },
  {
   "cell_type": "code",
   "execution_count": 270,
   "metadata": {},
   "outputs": [
    {
     "data": {
      "text/plain": [
       "1    49241\n",
       "2     7835\n",
       "0      151\n",
       "3       12\n",
       "Name: LICENSE STATUS, dtype: int64"
      ]
     },
     "execution_count": 270,
     "metadata": {},
     "output_type": "execute_result"
    }
   ],
   "source": [
    "xg_boost_submissions[\"LICENSE STATUS\"].value_counts()"
   ]
  },
  {
   "cell_type": "code",
   "execution_count": 271,
   "metadata": {},
   "outputs": [],
   "source": [
    "xg_boost_submissions['LICENSE STATUS'] = xg_boost_submissions['LICENSE STATUS'].replace(0, 'AAI')\n",
    "xg_boost_submissions['LICENSE STATUS'] = xg_boost_submissions['LICENSE STATUS'].replace(1, 'AAC')\n",
    "xg_boost_submissions['LICENSE STATUS'] = xg_boost_submissions['LICENSE STATUS'].replace(2, 'REV')\n",
    "xg_boost_submissions['LICENSE STATUS'] = xg_boost_submissions['LICENSE STATUS'].replace(3, 'REA')\n",
    "xg_boost_submissions['LICENSE STATUS'] = xg_boost_submissions['LICENSE STATUS'].replace(4, 'INQ')"
   ]
  },
  {
   "cell_type": "code",
   "execution_count": 273,
   "metadata": {},
   "outputs": [
    {
     "data": {
      "text/plain": [
       "<matplotlib.axes._subplots.AxesSubplot at 0x1a3e29c8d0>"
      ]
     },
     "execution_count": 273,
     "metadata": {},
     "output_type": "execute_result"
    },
    {
     "data": {
      "image/png": "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\n",
      "text/plain": [
       "<Figure size 432x288 with 1 Axes>"
      ]
     },
     "metadata": {
      "needs_background": "light"
     },
     "output_type": "display_data"
    }
   ],
   "source": [
    "sns.countplot(xg_boost_submissions['LICENSE STATUS'])"
   ]
  },
  {
   "cell_type": "code",
   "execution_count": 274,
   "metadata": {},
   "outputs": [],
   "source": [
    "xg_boost_submissions.to_csv('xgBoostClassifier.csv',index=False)"
   ]
  },
  {
   "cell_type": "code",
   "execution_count": 275,
   "metadata": {},
   "outputs": [],
   "source": [
    "from sklearn.metrics import f1_score"
   ]
  },
  {
   "cell_type": "code",
   "execution_count": 277,
   "metadata": {},
   "outputs": [
    {
     "name": "stdout",
     "output_type": "stream",
     "text": [
      "0.9936550439490075\n"
     ]
    }
   ],
   "source": [
    "print(f1_score(xg_boost_preds,y_test,average='micro'))"
   ]
  },
  {
   "cell_type": "code",
   "execution_count": 280,
   "metadata": {},
   "outputs": [
    {
     "data": {
      "text/plain": [
       "<matplotlib.axes._subplots.AxesSubplot at 0x1a3078f350>"
      ]
     },
     "execution_count": 280,
     "metadata": {},
     "output_type": "execute_result"
    },
    {
     "data": {
      "image/png": "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\n",
      "text/plain": [
       "<Figure size 432x288 with 1 Axes>"
      ]
     },
     "metadata": {
      "needs_background": "light"
     },
     "output_type": "display_data"
    }
   ],
   "source": [
    "sns.countplot(training_data['LICENSE STATUS'])"
   ]
  },
  {
   "cell_type": "code",
   "execution_count": 294,
   "metadata": {},
   "outputs": [],
   "source": [
    "training_data = training_data.sample(frac=1)"
   ]
  },
  {
   "cell_type": "code",
   "execution_count": 295,
   "metadata": {},
   "outputs": [],
   "source": [
    "class4data = training_data[training_data['LICENSE STATUS'] == 4]"
   ]
  },
  {
   "cell_type": "code",
   "execution_count": 296,
   "metadata": {},
   "outputs": [],
   "source": [
    "class3data = training_data[training_data['LICENSE STATUS'] == 3]"
   ]
  },
  {
   "cell_type": "code",
   "execution_count": 297,
   "metadata": {},
   "outputs": [],
   "source": [
    "class2data = training_data[training_data['LICENSE STATUS'] == 2]"
   ]
  },
  {
   "cell_type": "code",
   "execution_count": 298,
   "metadata": {},
   "outputs": [],
   "source": [
    "class1data = training_data[training_data['LICENSE STATUS'] == 1][:290]"
   ]
  },
  {
   "cell_type": "code",
   "execution_count": 299,
   "metadata": {},
   "outputs": [],
   "source": [
    "class0data = training_data[training_data['LICENSE STATUS'] == 0][:300]"
   ]
  },
  {
   "cell_type": "code",
   "execution_count": 300,
   "metadata": {},
   "outputs": [],
   "source": [
    "new_training_data = pd.concat([class4data,class3data,class2data,class1data,class0data,class4data,\n",
    "                              class4data,class4data,class4data,class3data,class3data,class4data,class3data])"
   ]
  },
  {
   "cell_type": "code",
   "execution_count": 301,
   "metadata": {},
   "outputs": [],
   "source": [
    "new_training_data = new_training_data.sample(frac=1,random_state=420)"
   ]
  },
  {
   "cell_type": "code",
   "execution_count": 303,
   "metadata": {},
   "outputs": [],
   "source": [
    "X = new_training_data.drop('LICENSE STATUS',axis=1)\n",
    "y = new_training_data['LICENSE STATUS']"
   ]
  },
  {
   "cell_type": "code",
   "execution_count": 304,
   "metadata": {},
   "outputs": [],
   "source": [
    "X_train,X_test,y_train,y_test = train_test_split(X,y,test_size=0.2,random_state=420)"
   ]
  },
  {
   "cell_type": "code",
   "execution_count": 319,
   "metadata": {},
   "outputs": [
    {
     "data": {
      "text/plain": [
       "RandomForestClassifier(bootstrap=True, class_weight=None, criterion='gini',\n",
       "                       max_depth=None, max_features='auto', max_leaf_nodes=None,\n",
       "                       min_impurity_decrease=0.0, min_impurity_split=None,\n",
       "                       min_samples_leaf=1, min_samples_split=2,\n",
       "                       min_weight_fraction_leaf=0.0, n_estimators=100,\n",
       "                       n_jobs=None, oob_score=False, random_state=420,\n",
       "                       verbose=0, warm_start=False)"
      ]
     },
     "execution_count": 319,
     "metadata": {},
     "output_type": "execute_result"
    }
   ],
   "source": [
    "rf = RandomForestClassifier(n_estimators=100,random_state=420)\n",
    "rf.fit(X_train,y_train)"
   ]
  },
  {
   "cell_type": "code",
   "execution_count": 320,
   "metadata": {},
   "outputs": [],
   "source": [
    "rf_test_sample_pred = rf.predict(X_test)"
   ]
  },
  {
   "cell_type": "code",
   "execution_count": 321,
   "metadata": {},
   "outputs": [
    {
     "name": "stdout",
     "output_type": "stream",
     "text": [
      "0.8784530386740331\n"
     ]
    }
   ],
   "source": [
    "print(accuracy_score(rf_test_sample_pred,y_test))"
   ]
  },
  {
   "cell_type": "code",
   "execution_count": 322,
   "metadata": {},
   "outputs": [],
   "source": [
    "rf_submissions_new = pd.DataFrame({'ID':test_file.ID})"
   ]
  },
  {
   "cell_type": "code",
   "execution_count": 323,
   "metadata": {},
   "outputs": [],
   "source": [
    "rf_final_test = rf.predict(testing_data)"
   ]
  },
  {
   "cell_type": "code",
   "execution_count": 324,
   "metadata": {},
   "outputs": [
    {
     "data": {
      "text/plain": [
       "(57239,)"
      ]
     },
     "execution_count": 324,
     "metadata": {},
     "output_type": "execute_result"
    }
   ],
   "source": [
    "rf_final_test.shape"
   ]
  },
  {
   "cell_type": "code",
   "execution_count": 325,
   "metadata": {},
   "outputs": [],
   "source": [
    "rf_submissions_new['LICENSE STATUS'] = rf_final_test"
   ]
  },
  {
   "cell_type": "code",
   "execution_count": 326,
   "metadata": {},
   "outputs": [
    {
     "data": {
      "text/plain": [
       "(57239, 2)"
      ]
     },
     "execution_count": 326,
     "metadata": {},
     "output_type": "execute_result"
    }
   ],
   "source": [
    "rf_submissions_new.shape"
   ]
  },
  {
   "cell_type": "code",
   "execution_count": 327,
   "metadata": {},
   "outputs": [],
   "source": [
    "rf_submissions_new['LICENSE STATUS'] = rf_submissions_new['LICENSE STATUS'].replace(0, 'AAI')\n",
    "rf_submissions_new['LICENSE STATUS'] = rf_submissions_new['LICENSE STATUS'].replace(1, 'AAC')\n",
    "rf_submissions_new['LICENSE STATUS'] = rf_submissions_new['LICENSE STATUS'].replace(2, 'REV')\n",
    "rf_submissions_new['LICENSE STATUS'] = rf_submissions_new['LICENSE STATUS'].replace(3, 'REA')\n",
    "rf_submissions_new['LICENSE STATUS'] = rf_submissions_new['LICENSE STATUS'].replace(4, 'INQ')"
   ]
  },
  {
   "cell_type": "code",
   "execution_count": 328,
   "metadata": {},
   "outputs": [],
   "source": [
    "rf_submissions_new.to_csv('new_rf_submissions.csv',index=False)"
   ]
  },
  {
   "cell_type": "code",
   "execution_count": 329,
   "metadata": {},
   "outputs": [],
   "source": [
    "X = new_training_data.drop('LICENSE STATUS',axis=1)\n",
    "y = new_training_data['LICENSE STATUS']"
   ]
  },
  {
   "cell_type": "code",
   "execution_count": 330,
   "metadata": {},
   "outputs": [],
   "source": [
    "X_train_xg,X_test_xg,y_train_xg,y_test_xg = train_test_split(X,y,test_size=0.25,random_state=420)"
   ]
  },
  {
   "cell_type": "code",
   "execution_count": 331,
   "metadata": {},
   "outputs": [
    {
     "data": {
      "text/plain": [
       "GradientBoostingClassifier(criterion='friedman_mse', init=None,\n",
       "                           learning_rate=0.1, loss='deviance', max_depth=3,\n",
       "                           max_features=None, max_leaf_nodes=None,\n",
       "                           min_impurity_decrease=0.0, min_impurity_split=None,\n",
       "                           min_samples_leaf=1, min_samples_split=2,\n",
       "                           min_weight_fraction_leaf=0.0, n_estimators=100,\n",
       "                           n_iter_no_change=None, presort='auto',\n",
       "                           random_state=None, subsample=1.0, tol=0.0001,\n",
       "                           validation_fraction=0.1, verbose=0,\n",
       "                           warm_start=False)"
      ]
     },
     "execution_count": 331,
     "metadata": {},
     "output_type": "execute_result"
    }
   ],
   "source": [
    "xg_boost.fit(X_train_xg,y_train_xg)"
   ]
  },
  {
   "cell_type": "code",
   "execution_count": 333,
   "metadata": {},
   "outputs": [],
   "source": [
    "xg_new_preds = xg_boost.predict(X_test_xg)"
   ]
  },
  {
   "cell_type": "code",
   "execution_count": 335,
   "metadata": {},
   "outputs": [
    {
     "name": "stdout",
     "output_type": "stream",
     "text": [
      "91.5929203539823\n"
     ]
    }
   ],
   "source": [
    "print(accuracy_score(xg_new_preds,y_test_xg)*100)"
   ]
  },
  {
   "cell_type": "code",
   "execution_count": 336,
   "metadata": {},
   "outputs": [],
   "source": [
    "xg_new_submissions = xg_boost.predict(testing_data)"
   ]
  },
  {
   "cell_type": "code",
   "execution_count": 337,
   "metadata": {},
   "outputs": [
    {
     "data": {
      "text/plain": [
       "(57239,)"
      ]
     },
     "execution_count": 337,
     "metadata": {},
     "output_type": "execute_result"
    }
   ],
   "source": [
    "xg_new_submissions.shape"
   ]
  },
  {
   "cell_type": "code",
   "execution_count": 338,
   "metadata": {},
   "outputs": [],
   "source": [
    "xg_submission_file = pd.DataFrame({'ID':test_file.ID,'LICENSE STATUS':xg_new_submissions})"
   ]
  },
  {
   "cell_type": "code",
   "execution_count": 339,
   "metadata": {},
   "outputs": [
    {
     "data": {
      "text/plain": [
       "(57239, 2)"
      ]
     },
     "execution_count": 339,
     "metadata": {},
     "output_type": "execute_result"
    }
   ],
   "source": [
    "xg_submission_file.shape"
   ]
  },
  {
   "cell_type": "code",
   "execution_count": 340,
   "metadata": {},
   "outputs": [],
   "source": [
    "xg_submission_file['LICENSE STATUS'] = xg_submission_file['LICENSE STATUS'].replace(0, 'AAI')\n",
    "xg_submission_file['LICENSE STATUS'] = xg_submission_file['LICENSE STATUS'].replace(1, 'AAC')\n",
    "xg_submission_file['LICENSE STATUS'] = xg_submission_file['LICENSE STATUS'].replace(2, 'REV')\n",
    "xg_submission_file['LICENSE STATUS'] = xg_submission_file['LICENSE STATUS'].replace(3, 'REA')\n",
    "xg_submission_file['LICENSE STATUS'] = xg_submission_file['LICENSE STATUS'].replace(4, 'INQ')"
   ]
  },
  {
   "cell_type": "code",
   "execution_count": 341,
   "metadata": {},
   "outputs": [
    {
     "data": {
      "text/plain": [
       "AAC    44706\n",
       "REV    11134\n",
       "INQ     1051\n",
       "AAI      198\n",
       "REA      150\n",
       "Name: LICENSE STATUS, dtype: int64"
      ]
     },
     "execution_count": 341,
     "metadata": {},
     "output_type": "execute_result"
    }
   ],
   "source": [
    "xg_submission_file[\"LICENSE STATUS\"].value_counts()"
   ]
  },
  {
   "cell_type": "code",
   "execution_count": 342,
   "metadata": {},
   "outputs": [],
   "source": [
    "xg_submission_file.to_csv('xgBoostClassifierNew.csv',index=False)"
   ]
  },
  {
   "cell_type": "code",
   "execution_count": 344,
   "metadata": {},
   "outputs": [
    {
     "data": {
      "text/plain": [
       "<matplotlib.axes._subplots.AxesSubplot at 0x1a3ef2d8d0>"
      ]
     },
     "execution_count": 344,
     "metadata": {},
     "output_type": "execute_result"
    },
    {
     "data": {
      "image/png": "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\n",
      "text/plain": [
       "<Figure size 432x288 with 1 Axes>"
      ]
     },
     "metadata": {
      "needs_background": "light"
     },
     "output_type": "display_data"
    }
   ],
   "source": [
    "sns.countplot(xg_submission_file['LICENSE STATUS'])"
   ]
  },
  {
   "cell_type": "code",
   "execution_count": 345,
   "metadata": {},
   "outputs": [],
   "source": [
    "from sklearn.ensemble import GradientBoostingClassifier"
   ]
  },
  {
   "cell_type": "code",
   "execution_count": 346,
   "metadata": {},
   "outputs": [],
   "source": [
    "xgbclf = GradientBoostingClassifier(n_estimators=500,learning_rate=0.05)"
   ]
  },
  {
   "cell_type": "code",
   "execution_count": 348,
   "metadata": {},
   "outputs": [
    {
     "data": {
      "text/plain": [
       "GradientBoostingClassifier(criterion='friedman_mse', init=None,\n",
       "                           learning_rate=0.05, loss='deviance', max_depth=3,\n",
       "                           max_features=None, max_leaf_nodes=None,\n",
       "                           min_impurity_decrease=0.0, min_impurity_split=None,\n",
       "                           min_samples_leaf=1, min_samples_split=2,\n",
       "                           min_weight_fraction_leaf=0.0, n_estimators=500,\n",
       "                           n_iter_no_change=None, presort='auto',\n",
       "                           random_state=None, subsample=1.0, tol=0.0001,\n",
       "                           validation_fraction=0.1, verbose=0,\n",
       "                           warm_start=False)"
      ]
     },
     "execution_count": 348,
     "metadata": {},
     "output_type": "execute_result"
    }
   ],
   "source": [
    "xgbclf.fit(X_train_xg,y_train_xg)"
   ]
  },
  {
   "cell_type": "code",
   "execution_count": 349,
   "metadata": {},
   "outputs": [],
   "source": [
    "newXGBpreds = xgbclf.predict(X_test_xg)"
   ]
  },
  {
   "cell_type": "code",
   "execution_count": 350,
   "metadata": {},
   "outputs": [
    {
     "data": {
      "text/plain": [
       "0.9247787610619469"
      ]
     },
     "execution_count": 350,
     "metadata": {},
     "output_type": "execute_result"
    }
   ],
   "source": [
    "accuracy_score(newXGBpreds,y_test_xg)"
   ]
  },
  {
   "cell_type": "code",
   "execution_count": 351,
   "metadata": {},
   "outputs": [],
   "source": [
    "xgbparameterTuned = xgbclf.predict(testing_data)"
   ]
  },
  {
   "cell_type": "code",
   "execution_count": 352,
   "metadata": {},
   "outputs": [],
   "source": [
    "xgbNew = pd.DataFrame({'ID':test_file.ID,'LICENSE STATUS':xgbparameterTuned})"
   ]
  },
  {
   "cell_type": "code",
   "execution_count": 354,
   "metadata": {},
   "outputs": [],
   "source": [
    "xgbNew['LICENSE STATUS'] = xgbNew['LICENSE STATUS'].replace(0, 'AAI')\n",
    "xgbNew['LICENSE STATUS'] = xgbNew['LICENSE STATUS'].replace(1, 'AAC')\n",
    "xgbNew['LICENSE STATUS'] = xgbNew['LICENSE STATUS'].replace(2, 'REV')\n",
    "xgbNew['LICENSE STATUS'] = xgbNew['LICENSE STATUS'].replace(3, 'REA')\n",
    "xgbNew['LICENSE STATUS'] = xgbNew['LICENSE STATUS'].replace(4, 'INQ')"
   ]
  },
  {
   "cell_type": "code",
   "execution_count": 355,
   "metadata": {},
   "outputs": [],
   "source": [
    "xgbNew.to_csv('XGBOOSTParamtereTuned.csv',index=False)"
   ]
  },
  {
   "cell_type": "code",
   "execution_count": null,
   "metadata": {},
   "outputs": [],
   "source": []
  }
 ],
 "metadata": {
  "kernelspec": {
   "display_name": "Python 3",
   "language": "python",
   "name": "python3"
  },
  "language_info": {
   "codemirror_mode": {
    "name": "ipython",
    "version": 3
   },
   "file_extension": ".py",
   "mimetype": "text/x-python",
   "name": "python",
   "nbconvert_exporter": "python",
   "pygments_lexer": "ipython3",
   "version": "3.7.4"
  }
 },
 "nbformat": 4,
 "nbformat_minor": 2
}
